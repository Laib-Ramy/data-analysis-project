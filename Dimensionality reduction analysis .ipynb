{
  "nbformat": 4,
  "nbformat_minor": 0,
  "metadata": {
    "celltoolbar": "Raw Cell Format",
    "colab": {
      "provenance": []
    },
    "kernelspec": {
      "display_name": "Python 3",
      "language": "python",
      "name": "python3"
    },
    "language_info": {
      "codemirror_mode": {
        "name": "ipython",
        "version": 3
      },
      "file_extension": ".py",
      "mimetype": "text/x-python",
      "name": "python",
      "nbconvert_exporter": "python",
      "pygments_lexer": "ipython3",
      "version": "3.6.5"
    }
  },
  "cells": [
    {
      "cell_type": "markdown",
      "metadata": {
        "id": "u8vwRIunRWa_"
      },
      "source": [
        "# Dimensionality reduction analysis\n",
        "\n",
        "After applying the different clustering algorithms, we now look at ways to improve the obtained results. One way to do so is by applying dimension reduction techniques such as Principal Component Analysis (PCA) and Canonical Correlation Analysis (CCA).\n",
        "\n",
        "\n",
        "**<font color='red'>PCA:</font>** This method is used to reduced the dimensions of the data. In fact, sometimes we have variables that do not give any information about the data and thus removing these variables can lead to better results.  \n",
        "\n",
        "**<font color='red'>CCA:</font>** This method is used to detect correlations between different subgroups of data. In fact, sometimes we have variables that are so strongly correlated that reducing the dimensions using linear combinations between the correlated variables can imporove the results\n",
        "It is **important to note that we will NOT use the labels when applying PCA and CCA.**\n",
        "\n",
        "___\n",
        "\n",
        "\n",
        ""
      ]
    },
    {
      "cell_type": "markdown",
      "metadata": {
        "id": "OmlK7xfGe0yw"
      },
      "source": [
        "## Mount Drive\n",
        "\n",
        "**For google colab users only**"
      ]
    },
    {
      "cell_type": "code",
      "execution_count": null,
      "metadata": {
        "id": "9CFAM84Me9dB",
        "colab": {
          "base_uri": "https://localhost:8080/"
        },
        "outputId": "7be19ee4-50cd-4061-a603-4f7530d14baf"
      },
      "outputs": [
        {
          "output_type": "stream",
          "name": "stdout",
          "text": [
            "Mounted at /content/drive\n"
          ]
        }
      ],
      "source": [
        "import os\n",
        "from google.colab import drive\n",
        "\n",
        "drive.mount('/content/drive')\n",
        "\n",
        "# Change to the directory to where your files are\n",
        "os.chdir('drive/MyDrive/TD4')\n",
        "\n"
      ]
    },
    {
      "cell_type": "markdown",
      "metadata": {
        "id": "LOkk8MDZRWbA"
      },
      "source": [
        "## Import Libraries\n",
        "\n",
        "**Tip**: look at the documentation of the packages and methods imported, they can help you answer some questions."
      ]
    },
    {
      "cell_type": "code",
      "execution_count": null,
      "metadata": {
        "id": "zMzYC9t-egB5"
      },
      "outputs": [],
      "source": [
        "import seaborn as sns\n",
        "import matplotlib.pyplot as plt\n",
        "import pandas as pd\n",
        "import numpy as np\n",
        "%matplotlib inline\n",
        "from sklearn.preprocessing import StandardScaler,LabelEncoder"
      ]
    },
    {
      "cell_type": "markdown",
      "metadata": {
        "id": "NbbEEnkpRWbE"
      },
      "source": [
        "## Load the dataset, separate data from classes\n"
      ]
    },
    {
      "cell_type": "markdown",
      "metadata": {
        "id": "TmHQPPWoRWbE"
      },
      "source": [
        "\n",
        "Load the dataset you are using in your project and separate the data from the class.\n",
        "\n",
        "**<font color='red'>N.B:</font>** If you have applied some preprocessing steps (missing value replacement, factorize), please used the dataset you obtained after all the steps (you should have saved your dataset in notebook TD2_3.ipynb) without the normalization step.\n",
        "\n",
        "\n",
        "\n"
      ]
    },
    {
      "cell_type": "code",
      "execution_count": null,
      "metadata": {
        "id": "EQjK_f6OegCP",
        "colab": {
          "base_uri": "https://localhost:8080/"
        },
        "outputId": "82888796-dafa-41cb-c1d2-872ea2731718"
      },
      "outputs": [
        {
          "output_type": "stream",
          "name": "stderr",
          "text": [
            "/usr/local/lib/python3.9/dist-packages/sklearn/preprocessing/_label.py:116: DataConversionWarning: A column-vector y was passed when a 1d array was expected. Please change the shape of y to (n_samples, ), for example using ravel().\n",
            "  y = column_or_1d(y, warn=True)\n"
          ]
        },
        {
          "output_type": "execute_result",
          "data": {
            "text/plain": [
              "array([4, 4, 4, 4, 4, 4, 4, 4, 4, 4, 4, 4, 4, 4, 4, 4, 4, 4, 4, 4, 4, 4,\n",
              "       4, 4, 4, 4, 4, 4, 4, 4, 4, 4, 4, 4, 4, 4, 4, 4, 4, 4, 4, 4, 4, 4,\n",
              "       4, 4, 4, 4, 4, 4, 3, 3, 3, 3, 3, 3, 3, 3, 3, 3, 3, 3, 3, 3, 3, 3,\n",
              "       3, 3, 3, 3, 3, 3, 3, 3, 3, 3, 3, 3, 3, 3, 3, 3, 3, 3, 3, 3, 3, 3,\n",
              "       3, 3, 3, 3, 3, 3, 3, 3, 3, 3, 3, 3, 1, 1, 1, 1, 1, 1, 1, 1, 1, 1,\n",
              "       1, 1, 1, 1, 1, 1, 1, 1, 1, 1, 1, 1, 1, 1, 1, 1, 1, 1, 1, 1, 1, 1,\n",
              "       1, 1, 1, 1, 1, 1, 1, 1, 1, 1, 1, 1, 1, 1, 1, 1, 1, 1, 0, 0, 0, 0,\n",
              "       0, 0, 0, 0, 0, 0, 0, 0, 0, 0, 0, 0, 0, 0, 0, 0, 0, 0, 0, 0, 0, 0,\n",
              "       0, 0, 0, 0, 0, 0, 0, 0, 0, 0, 0, 0, 0, 0, 0, 0, 0, 0, 0, 0, 0, 0,\n",
              "       0, 0, 2, 2, 2, 2, 2, 2, 2, 2, 2, 2, 2, 2, 2, 2, 2, 2, 2, 2, 2, 2,\n",
              "       2, 2, 2, 2, 2, 2, 2, 2, 2, 2, 2, 2, 2, 2, 2, 2, 2, 2, 2, 2, 2, 2,\n",
              "       2, 2, 2, 2, 2, 2, 2, 2])"
            ]
          },
          "metadata": {},
          "execution_count": 6
        }
      ],
      "source": [
        "df = pd.read_csv('spotipyMusicGenres.csv', header=0)\n",
        "data=df.drop([\"genre\",\"ids\",\"song\"],axis=1)\n",
        "labels=df[[\"genre\"]]\n",
        "encoder = LabelEncoder()\n",
        "labels = encoder.fit_transform(labels)\n",
        "labels"
      ]
    },
    {
      "cell_type": "code",
      "source": [
        "data['artist'] = pd.factorize(data['artist'])[0]\n",
        "data"
      ],
      "metadata": {
        "id": "S9V7d9EmkImU",
        "colab": {
          "base_uri": "https://localhost:8080/",
          "height": 424
        },
        "outputId": "ad87a254-9a76-4d4e-c236-18238b8bf25b"
      },
      "execution_count": null,
      "outputs": [
        {
          "output_type": "execute_result",
          "data": {
            "text/plain": [
              "     artist  acousticness  danceability  duration_ms  energy  \\\n",
              "0         0       0.72000         0.629       298933   0.547   \n",
              "1         1       0.00121         0.352       222973   0.911   \n",
              "2         2       0.00287         0.526       253587   0.866   \n",
              "3         3       0.00438         0.480       297933   0.870   \n",
              "4         4       0.06950         0.685       167614   0.738   \n",
              "..      ...           ...           ...          ...     ...   \n",
              "245     112       0.00226         0.721       154983   0.738   \n",
              "246     116       0.00294         0.501       190846   0.765   \n",
              "247     117       0.29600         0.674       178480   0.881   \n",
              "248     113       0.04040         0.677       152913   0.744   \n",
              "249      38       0.05120         0.692       184390   0.883   \n",
              "\n",
              "     instrumentalness  key  liveness  loudness  speechiness    tempo  mode  \\\n",
              "0            0.003140   10    0.0604   -13.123       0.0550  108.375     0   \n",
              "1            0.000000    1    0.0995    -5.230       0.0747  148.033     1   \n",
              "2            0.000078    0    0.0945    -5.822       0.0568  140.266     1   \n",
              "3            0.006030    1    0.0826    -4.792       0.0362  161.953     1   \n",
              "4            0.000000    8    0.1280    -4.413       0.0595  112.972     1   \n",
              "..                ...  ...       ...       ...          ...      ...   ...   \n",
              "245          0.000004    7    0.1180    -4.770       0.0403  119.976     1   \n",
              "246          0.490000    6    0.1840    -7.063       0.0281   91.771     0   \n",
              "247          0.000003    9    0.0793    -2.853       0.1470   98.994     1   \n",
              "248          0.000160   10    0.0740    -6.806       0.0295  124.080     0   \n",
              "249          0.000000    7    0.2280    -4.698       0.0582  122.984     1   \n",
              "\n",
              "     valence  \n",
              "0      0.197  \n",
              "1      0.236  \n",
              "2      0.248  \n",
              "3      0.584  \n",
              "4      0.800  \n",
              "..       ...  \n",
              "245    0.637  \n",
              "246    0.460  \n",
              "247    0.234  \n",
              "248    0.631  \n",
              "249    0.614  \n",
              "\n",
              "[250 rows x 13 columns]"
            ],
            "text/html": [
              "\n",
              "  <div id=\"df-baefe8ff-d3a3-4e11-8004-ffbcae24fbdf\">\n",
              "    <div class=\"colab-df-container\">\n",
              "      <div>\n",
              "<style scoped>\n",
              "    .dataframe tbody tr th:only-of-type {\n",
              "        vertical-align: middle;\n",
              "    }\n",
              "\n",
              "    .dataframe tbody tr th {\n",
              "        vertical-align: top;\n",
              "    }\n",
              "\n",
              "    .dataframe thead th {\n",
              "        text-align: right;\n",
              "    }\n",
              "</style>\n",
              "<table border=\"1\" class=\"dataframe\">\n",
              "  <thead>\n",
              "    <tr style=\"text-align: right;\">\n",
              "      <th></th>\n",
              "      <th>artist</th>\n",
              "      <th>acousticness</th>\n",
              "      <th>danceability</th>\n",
              "      <th>duration_ms</th>\n",
              "      <th>energy</th>\n",
              "      <th>instrumentalness</th>\n",
              "      <th>key</th>\n",
              "      <th>liveness</th>\n",
              "      <th>loudness</th>\n",
              "      <th>speechiness</th>\n",
              "      <th>tempo</th>\n",
              "      <th>mode</th>\n",
              "      <th>valence</th>\n",
              "    </tr>\n",
              "  </thead>\n",
              "  <tbody>\n",
              "    <tr>\n",
              "      <th>0</th>\n",
              "      <td>0</td>\n",
              "      <td>0.72000</td>\n",
              "      <td>0.629</td>\n",
              "      <td>298933</td>\n",
              "      <td>0.547</td>\n",
              "      <td>0.003140</td>\n",
              "      <td>10</td>\n",
              "      <td>0.0604</td>\n",
              "      <td>-13.123</td>\n",
              "      <td>0.0550</td>\n",
              "      <td>108.375</td>\n",
              "      <td>0</td>\n",
              "      <td>0.197</td>\n",
              "    </tr>\n",
              "    <tr>\n",
              "      <th>1</th>\n",
              "      <td>1</td>\n",
              "      <td>0.00121</td>\n",
              "      <td>0.352</td>\n",
              "      <td>222973</td>\n",
              "      <td>0.911</td>\n",
              "      <td>0.000000</td>\n",
              "      <td>1</td>\n",
              "      <td>0.0995</td>\n",
              "      <td>-5.230</td>\n",
              "      <td>0.0747</td>\n",
              "      <td>148.033</td>\n",
              "      <td>1</td>\n",
              "      <td>0.236</td>\n",
              "    </tr>\n",
              "    <tr>\n",
              "      <th>2</th>\n",
              "      <td>2</td>\n",
              "      <td>0.00287</td>\n",
              "      <td>0.526</td>\n",
              "      <td>253587</td>\n",
              "      <td>0.866</td>\n",
              "      <td>0.000078</td>\n",
              "      <td>0</td>\n",
              "      <td>0.0945</td>\n",
              "      <td>-5.822</td>\n",
              "      <td>0.0568</td>\n",
              "      <td>140.266</td>\n",
              "      <td>1</td>\n",
              "      <td>0.248</td>\n",
              "    </tr>\n",
              "    <tr>\n",
              "      <th>3</th>\n",
              "      <td>3</td>\n",
              "      <td>0.00438</td>\n",
              "      <td>0.480</td>\n",
              "      <td>297933</td>\n",
              "      <td>0.870</td>\n",
              "      <td>0.006030</td>\n",
              "      <td>1</td>\n",
              "      <td>0.0826</td>\n",
              "      <td>-4.792</td>\n",
              "      <td>0.0362</td>\n",
              "      <td>161.953</td>\n",
              "      <td>1</td>\n",
              "      <td>0.584</td>\n",
              "    </tr>\n",
              "    <tr>\n",
              "      <th>4</th>\n",
              "      <td>4</td>\n",
              "      <td>0.06950</td>\n",
              "      <td>0.685</td>\n",
              "      <td>167614</td>\n",
              "      <td>0.738</td>\n",
              "      <td>0.000000</td>\n",
              "      <td>8</td>\n",
              "      <td>0.1280</td>\n",
              "      <td>-4.413</td>\n",
              "      <td>0.0595</td>\n",
              "      <td>112.972</td>\n",
              "      <td>1</td>\n",
              "      <td>0.800</td>\n",
              "    </tr>\n",
              "    <tr>\n",
              "      <th>...</th>\n",
              "      <td>...</td>\n",
              "      <td>...</td>\n",
              "      <td>...</td>\n",
              "      <td>...</td>\n",
              "      <td>...</td>\n",
              "      <td>...</td>\n",
              "      <td>...</td>\n",
              "      <td>...</td>\n",
              "      <td>...</td>\n",
              "      <td>...</td>\n",
              "      <td>...</td>\n",
              "      <td>...</td>\n",
              "      <td>...</td>\n",
              "    </tr>\n",
              "    <tr>\n",
              "      <th>245</th>\n",
              "      <td>112</td>\n",
              "      <td>0.00226</td>\n",
              "      <td>0.721</td>\n",
              "      <td>154983</td>\n",
              "      <td>0.738</td>\n",
              "      <td>0.000004</td>\n",
              "      <td>7</td>\n",
              "      <td>0.1180</td>\n",
              "      <td>-4.770</td>\n",
              "      <td>0.0403</td>\n",
              "      <td>119.976</td>\n",
              "      <td>1</td>\n",
              "      <td>0.637</td>\n",
              "    </tr>\n",
              "    <tr>\n",
              "      <th>246</th>\n",
              "      <td>116</td>\n",
              "      <td>0.00294</td>\n",
              "      <td>0.501</td>\n",
              "      <td>190846</td>\n",
              "      <td>0.765</td>\n",
              "      <td>0.490000</td>\n",
              "      <td>6</td>\n",
              "      <td>0.1840</td>\n",
              "      <td>-7.063</td>\n",
              "      <td>0.0281</td>\n",
              "      <td>91.771</td>\n",
              "      <td>0</td>\n",
              "      <td>0.460</td>\n",
              "    </tr>\n",
              "    <tr>\n",
              "      <th>247</th>\n",
              "      <td>117</td>\n",
              "      <td>0.29600</td>\n",
              "      <td>0.674</td>\n",
              "      <td>178480</td>\n",
              "      <td>0.881</td>\n",
              "      <td>0.000003</td>\n",
              "      <td>9</td>\n",
              "      <td>0.0793</td>\n",
              "      <td>-2.853</td>\n",
              "      <td>0.1470</td>\n",
              "      <td>98.994</td>\n",
              "      <td>1</td>\n",
              "      <td>0.234</td>\n",
              "    </tr>\n",
              "    <tr>\n",
              "      <th>248</th>\n",
              "      <td>113</td>\n",
              "      <td>0.04040</td>\n",
              "      <td>0.677</td>\n",
              "      <td>152913</td>\n",
              "      <td>0.744</td>\n",
              "      <td>0.000160</td>\n",
              "      <td>10</td>\n",
              "      <td>0.0740</td>\n",
              "      <td>-6.806</td>\n",
              "      <td>0.0295</td>\n",
              "      <td>124.080</td>\n",
              "      <td>0</td>\n",
              "      <td>0.631</td>\n",
              "    </tr>\n",
              "    <tr>\n",
              "      <th>249</th>\n",
              "      <td>38</td>\n",
              "      <td>0.05120</td>\n",
              "      <td>0.692</td>\n",
              "      <td>184390</td>\n",
              "      <td>0.883</td>\n",
              "      <td>0.000000</td>\n",
              "      <td>7</td>\n",
              "      <td>0.2280</td>\n",
              "      <td>-4.698</td>\n",
              "      <td>0.0582</td>\n",
              "      <td>122.984</td>\n",
              "      <td>1</td>\n",
              "      <td>0.614</td>\n",
              "    </tr>\n",
              "  </tbody>\n",
              "</table>\n",
              "<p>250 rows × 13 columns</p>\n",
              "</div>\n",
              "      <button class=\"colab-df-convert\" onclick=\"convertToInteractive('df-baefe8ff-d3a3-4e11-8004-ffbcae24fbdf')\"\n",
              "              title=\"Convert this dataframe to an interactive table.\"\n",
              "              style=\"display:none;\">\n",
              "        \n",
              "  <svg xmlns=\"http://www.w3.org/2000/svg\" height=\"24px\"viewBox=\"0 0 24 24\"\n",
              "       width=\"24px\">\n",
              "    <path d=\"M0 0h24v24H0V0z\" fill=\"none\"/>\n",
              "    <path d=\"M18.56 5.44l.94 2.06.94-2.06 2.06-.94-2.06-.94-.94-2.06-.94 2.06-2.06.94zm-11 1L8.5 8.5l.94-2.06 2.06-.94-2.06-.94L8.5 2.5l-.94 2.06-2.06.94zm10 10l.94 2.06.94-2.06 2.06-.94-2.06-.94-.94-2.06-.94 2.06-2.06.94z\"/><path d=\"M17.41 7.96l-1.37-1.37c-.4-.4-.92-.59-1.43-.59-.52 0-1.04.2-1.43.59L10.3 9.45l-7.72 7.72c-.78.78-.78 2.05 0 2.83L4 21.41c.39.39.9.59 1.41.59.51 0 1.02-.2 1.41-.59l7.78-7.78 2.81-2.81c.8-.78.8-2.07 0-2.86zM5.41 20L4 18.59l7.72-7.72 1.47 1.35L5.41 20z\"/>\n",
              "  </svg>\n",
              "      </button>\n",
              "      \n",
              "  <style>\n",
              "    .colab-df-container {\n",
              "      display:flex;\n",
              "      flex-wrap:wrap;\n",
              "      gap: 12px;\n",
              "    }\n",
              "\n",
              "    .colab-df-convert {\n",
              "      background-color: #E8F0FE;\n",
              "      border: none;\n",
              "      border-radius: 50%;\n",
              "      cursor: pointer;\n",
              "      display: none;\n",
              "      fill: #1967D2;\n",
              "      height: 32px;\n",
              "      padding: 0 0 0 0;\n",
              "      width: 32px;\n",
              "    }\n",
              "\n",
              "    .colab-df-convert:hover {\n",
              "      background-color: #E2EBFA;\n",
              "      box-shadow: 0px 1px 2px rgba(60, 64, 67, 0.3), 0px 1px 3px 1px rgba(60, 64, 67, 0.15);\n",
              "      fill: #174EA6;\n",
              "    }\n",
              "\n",
              "    [theme=dark] .colab-df-convert {\n",
              "      background-color: #3B4455;\n",
              "      fill: #D2E3FC;\n",
              "    }\n",
              "\n",
              "    [theme=dark] .colab-df-convert:hover {\n",
              "      background-color: #434B5C;\n",
              "      box-shadow: 0px 1px 3px 1px rgba(0, 0, 0, 0.15);\n",
              "      filter: drop-shadow(0px 1px 2px rgba(0, 0, 0, 0.3));\n",
              "      fill: #FFFFFF;\n",
              "    }\n",
              "  </style>\n",
              "\n",
              "      <script>\n",
              "        const buttonEl =\n",
              "          document.querySelector('#df-baefe8ff-d3a3-4e11-8004-ffbcae24fbdf button.colab-df-convert');\n",
              "        buttonEl.style.display =\n",
              "          google.colab.kernel.accessAllowed ? 'block' : 'none';\n",
              "\n",
              "        async function convertToInteractive(key) {\n",
              "          const element = document.querySelector('#df-baefe8ff-d3a3-4e11-8004-ffbcae24fbdf');\n",
              "          const dataTable =\n",
              "            await google.colab.kernel.invokeFunction('convertToInteractive',\n",
              "                                                     [key], {});\n",
              "          if (!dataTable) return;\n",
              "\n",
              "          const docLinkHtml = 'Like what you see? Visit the ' +\n",
              "            '<a target=\"_blank\" href=https://colab.research.google.com/notebooks/data_table.ipynb>data table notebook</a>'\n",
              "            + ' to learn more about interactive tables.';\n",
              "          element.innerHTML = '';\n",
              "          dataTable['output_type'] = 'display_data';\n",
              "          await google.colab.output.renderOutput(dataTable, element);\n",
              "          const docLink = document.createElement('div');\n",
              "          docLink.innerHTML = docLinkHtml;\n",
              "          element.appendChild(docLink);\n",
              "        }\n",
              "      </script>\n",
              "    </div>\n",
              "  </div>\n",
              "  "
            ]
          },
          "metadata": {},
          "execution_count": 7
        }
      ]
    },
    {
      "cell_type": "markdown",
      "metadata": {
        "id": "cvq_mI8UegDv"
      },
      "source": [
        "## Part 1: Apply PCA"
      ]
    },
    {
      "cell_type": "markdown",
      "source": [
        "\n",
        "##### We start by scaling the data so that each feature has a single unit variance.  \n",
        "\n",
        "\n",
        "**<font color='red'>N.B:</font>** For the purpose of this part of the project, we will scale both continuous and numerical variables.\n",
        "PCA is designed for continuous variables, so theoretically you should only apply it to the data that was already continuous in your original dataset. To make this project easier and more comparable between groups, we have decided to let you apply it on all features."
      ],
      "metadata": {
        "id": "ff-kMt84TrEJ"
      }
    },
    {
      "cell_type": "code",
      "execution_count": null,
      "metadata": {
        "id": "PTJ8zfTpegDw",
        "colab": {
          "base_uri": "https://localhost:8080/",
          "height": 424
        },
        "outputId": "7257b93c-1407-4bb7-ee6d-6a791e86376f"
      },
      "outputs": [
        {
          "output_type": "execute_result",
          "data": {
            "text/plain": [
              "       artist  acousticness  danceability  duration_ms    energy  \\\n",
              "0   -1.785346      1.041974      0.295349     1.011195 -0.091078   \n",
              "1   -1.754457     -0.927958     -1.313484    -0.112706  1.199020   \n",
              "2   -1.723569     -0.923408     -0.302881     0.340258  1.039530   \n",
              "3   -1.692681     -0.919270     -0.570052     0.996399  1.053707   \n",
              "4   -1.661792     -0.740801      0.620601    -0.931794  0.585869   \n",
              "..        ...           ...           ...          ...       ...   \n",
              "245  1.674148     -0.925080      0.829691    -1.118682  0.585869   \n",
              "246  1.797701     -0.923216     -0.448083    -0.588055  0.681563   \n",
              "247  1.828589     -0.120050      0.556712    -0.771022  1.092693   \n",
              "248  1.705036     -0.820553      0.574136    -1.149310  0.607134   \n",
              "249 -0.611589     -0.790954      0.661257    -0.683578  1.099782   \n",
              "\n",
              "     instrumentalness       key  liveness  loudness  speechiness     tempo  \\\n",
              "0           -0.513893  1.287656 -0.811310 -0.263009    -0.240240 -0.353754   \n",
              "1           -0.522657 -1.227298 -0.442531  0.593970     0.045146  1.197124   \n",
              "2           -0.522439 -1.506737 -0.489690  0.529694    -0.214164  0.893385   \n",
              "3           -0.505827 -1.227298 -0.601927  0.641526    -0.512587  1.741484   \n",
              "4           -0.522657  0.728778 -0.173728  0.682676    -0.175050 -0.173983   \n",
              "..                ...       ...       ...       ...          ...       ...   \n",
              "245         -0.522644  0.449338 -0.268045  0.643914    -0.453192  0.099918   \n",
              "246          0.844960  0.169899  0.354447  0.394953    -0.629928 -1.003076   \n",
              "247         -0.522648  1.008217 -0.633051  0.852052     1.092525 -0.720611   \n",
              "248         -0.522210  1.287656 -0.683039  0.422857    -0.609647  0.260410   \n",
              "249         -0.522657  0.449338  0.769441  0.651732    -0.193883  0.217550   \n",
              "\n",
              "         mode   valence  \n",
              "0   -1.333333 -1.112988  \n",
              "1    0.750000 -0.957582  \n",
              "2    0.750000 -0.909765  \n",
              "3    0.750000  0.429116  \n",
              "4    0.750000  1.289826  \n",
              "..        ...       ...  \n",
              "245  0.750000  0.640309  \n",
              "246 -1.333333 -0.064995  \n",
              "247  0.750000 -0.965552  \n",
              "248 -1.333333  0.616400  \n",
              "249  0.750000  0.548659  \n",
              "\n",
              "[250 rows x 13 columns]"
            ],
            "text/html": [
              "\n",
              "  <div id=\"df-2702d8b1-b1a7-4058-90f0-b27d9de8f12e\">\n",
              "    <div class=\"colab-df-container\">\n",
              "      <div>\n",
              "<style scoped>\n",
              "    .dataframe tbody tr th:only-of-type {\n",
              "        vertical-align: middle;\n",
              "    }\n",
              "\n",
              "    .dataframe tbody tr th {\n",
              "        vertical-align: top;\n",
              "    }\n",
              "\n",
              "    .dataframe thead th {\n",
              "        text-align: right;\n",
              "    }\n",
              "</style>\n",
              "<table border=\"1\" class=\"dataframe\">\n",
              "  <thead>\n",
              "    <tr style=\"text-align: right;\">\n",
              "      <th></th>\n",
              "      <th>artist</th>\n",
              "      <th>acousticness</th>\n",
              "      <th>danceability</th>\n",
              "      <th>duration_ms</th>\n",
              "      <th>energy</th>\n",
              "      <th>instrumentalness</th>\n",
              "      <th>key</th>\n",
              "      <th>liveness</th>\n",
              "      <th>loudness</th>\n",
              "      <th>speechiness</th>\n",
              "      <th>tempo</th>\n",
              "      <th>mode</th>\n",
              "      <th>valence</th>\n",
              "    </tr>\n",
              "  </thead>\n",
              "  <tbody>\n",
              "    <tr>\n",
              "      <th>0</th>\n",
              "      <td>-1.785346</td>\n",
              "      <td>1.041974</td>\n",
              "      <td>0.295349</td>\n",
              "      <td>1.011195</td>\n",
              "      <td>-0.091078</td>\n",
              "      <td>-0.513893</td>\n",
              "      <td>1.287656</td>\n",
              "      <td>-0.811310</td>\n",
              "      <td>-0.263009</td>\n",
              "      <td>-0.240240</td>\n",
              "      <td>-0.353754</td>\n",
              "      <td>-1.333333</td>\n",
              "      <td>-1.112988</td>\n",
              "    </tr>\n",
              "    <tr>\n",
              "      <th>1</th>\n",
              "      <td>-1.754457</td>\n",
              "      <td>-0.927958</td>\n",
              "      <td>-1.313484</td>\n",
              "      <td>-0.112706</td>\n",
              "      <td>1.199020</td>\n",
              "      <td>-0.522657</td>\n",
              "      <td>-1.227298</td>\n",
              "      <td>-0.442531</td>\n",
              "      <td>0.593970</td>\n",
              "      <td>0.045146</td>\n",
              "      <td>1.197124</td>\n",
              "      <td>0.750000</td>\n",
              "      <td>-0.957582</td>\n",
              "    </tr>\n",
              "    <tr>\n",
              "      <th>2</th>\n",
              "      <td>-1.723569</td>\n",
              "      <td>-0.923408</td>\n",
              "      <td>-0.302881</td>\n",
              "      <td>0.340258</td>\n",
              "      <td>1.039530</td>\n",
              "      <td>-0.522439</td>\n",
              "      <td>-1.506737</td>\n",
              "      <td>-0.489690</td>\n",
              "      <td>0.529694</td>\n",
              "      <td>-0.214164</td>\n",
              "      <td>0.893385</td>\n",
              "      <td>0.750000</td>\n",
              "      <td>-0.909765</td>\n",
              "    </tr>\n",
              "    <tr>\n",
              "      <th>3</th>\n",
              "      <td>-1.692681</td>\n",
              "      <td>-0.919270</td>\n",
              "      <td>-0.570052</td>\n",
              "      <td>0.996399</td>\n",
              "      <td>1.053707</td>\n",
              "      <td>-0.505827</td>\n",
              "      <td>-1.227298</td>\n",
              "      <td>-0.601927</td>\n",
              "      <td>0.641526</td>\n",
              "      <td>-0.512587</td>\n",
              "      <td>1.741484</td>\n",
              "      <td>0.750000</td>\n",
              "      <td>0.429116</td>\n",
              "    </tr>\n",
              "    <tr>\n",
              "      <th>4</th>\n",
              "      <td>-1.661792</td>\n",
              "      <td>-0.740801</td>\n",
              "      <td>0.620601</td>\n",
              "      <td>-0.931794</td>\n",
              "      <td>0.585869</td>\n",
              "      <td>-0.522657</td>\n",
              "      <td>0.728778</td>\n",
              "      <td>-0.173728</td>\n",
              "      <td>0.682676</td>\n",
              "      <td>-0.175050</td>\n",
              "      <td>-0.173983</td>\n",
              "      <td>0.750000</td>\n",
              "      <td>1.289826</td>\n",
              "    </tr>\n",
              "    <tr>\n",
              "      <th>...</th>\n",
              "      <td>...</td>\n",
              "      <td>...</td>\n",
              "      <td>...</td>\n",
              "      <td>...</td>\n",
              "      <td>...</td>\n",
              "      <td>...</td>\n",
              "      <td>...</td>\n",
              "      <td>...</td>\n",
              "      <td>...</td>\n",
              "      <td>...</td>\n",
              "      <td>...</td>\n",
              "      <td>...</td>\n",
              "      <td>...</td>\n",
              "    </tr>\n",
              "    <tr>\n",
              "      <th>245</th>\n",
              "      <td>1.674148</td>\n",
              "      <td>-0.925080</td>\n",
              "      <td>0.829691</td>\n",
              "      <td>-1.118682</td>\n",
              "      <td>0.585869</td>\n",
              "      <td>-0.522644</td>\n",
              "      <td>0.449338</td>\n",
              "      <td>-0.268045</td>\n",
              "      <td>0.643914</td>\n",
              "      <td>-0.453192</td>\n",
              "      <td>0.099918</td>\n",
              "      <td>0.750000</td>\n",
              "      <td>0.640309</td>\n",
              "    </tr>\n",
              "    <tr>\n",
              "      <th>246</th>\n",
              "      <td>1.797701</td>\n",
              "      <td>-0.923216</td>\n",
              "      <td>-0.448083</td>\n",
              "      <td>-0.588055</td>\n",
              "      <td>0.681563</td>\n",
              "      <td>0.844960</td>\n",
              "      <td>0.169899</td>\n",
              "      <td>0.354447</td>\n",
              "      <td>0.394953</td>\n",
              "      <td>-0.629928</td>\n",
              "      <td>-1.003076</td>\n",
              "      <td>-1.333333</td>\n",
              "      <td>-0.064995</td>\n",
              "    </tr>\n",
              "    <tr>\n",
              "      <th>247</th>\n",
              "      <td>1.828589</td>\n",
              "      <td>-0.120050</td>\n",
              "      <td>0.556712</td>\n",
              "      <td>-0.771022</td>\n",
              "      <td>1.092693</td>\n",
              "      <td>-0.522648</td>\n",
              "      <td>1.008217</td>\n",
              "      <td>-0.633051</td>\n",
              "      <td>0.852052</td>\n",
              "      <td>1.092525</td>\n",
              "      <td>-0.720611</td>\n",
              "      <td>0.750000</td>\n",
              "      <td>-0.965552</td>\n",
              "    </tr>\n",
              "    <tr>\n",
              "      <th>248</th>\n",
              "      <td>1.705036</td>\n",
              "      <td>-0.820553</td>\n",
              "      <td>0.574136</td>\n",
              "      <td>-1.149310</td>\n",
              "      <td>0.607134</td>\n",
              "      <td>-0.522210</td>\n",
              "      <td>1.287656</td>\n",
              "      <td>-0.683039</td>\n",
              "      <td>0.422857</td>\n",
              "      <td>-0.609647</td>\n",
              "      <td>0.260410</td>\n",
              "      <td>-1.333333</td>\n",
              "      <td>0.616400</td>\n",
              "    </tr>\n",
              "    <tr>\n",
              "      <th>249</th>\n",
              "      <td>-0.611589</td>\n",
              "      <td>-0.790954</td>\n",
              "      <td>0.661257</td>\n",
              "      <td>-0.683578</td>\n",
              "      <td>1.099782</td>\n",
              "      <td>-0.522657</td>\n",
              "      <td>0.449338</td>\n",
              "      <td>0.769441</td>\n",
              "      <td>0.651732</td>\n",
              "      <td>-0.193883</td>\n",
              "      <td>0.217550</td>\n",
              "      <td>0.750000</td>\n",
              "      <td>0.548659</td>\n",
              "    </tr>\n",
              "  </tbody>\n",
              "</table>\n",
              "<p>250 rows × 13 columns</p>\n",
              "</div>\n",
              "      <button class=\"colab-df-convert\" onclick=\"convertToInteractive('df-2702d8b1-b1a7-4058-90f0-b27d9de8f12e')\"\n",
              "              title=\"Convert this dataframe to an interactive table.\"\n",
              "              style=\"display:none;\">\n",
              "        \n",
              "  <svg xmlns=\"http://www.w3.org/2000/svg\" height=\"24px\"viewBox=\"0 0 24 24\"\n",
              "       width=\"24px\">\n",
              "    <path d=\"M0 0h24v24H0V0z\" fill=\"none\"/>\n",
              "    <path d=\"M18.56 5.44l.94 2.06.94-2.06 2.06-.94-2.06-.94-.94-2.06-.94 2.06-2.06.94zm-11 1L8.5 8.5l.94-2.06 2.06-.94-2.06-.94L8.5 2.5l-.94 2.06-2.06.94zm10 10l.94 2.06.94-2.06 2.06-.94-2.06-.94-.94-2.06-.94 2.06-2.06.94z\"/><path d=\"M17.41 7.96l-1.37-1.37c-.4-.4-.92-.59-1.43-.59-.52 0-1.04.2-1.43.59L10.3 9.45l-7.72 7.72c-.78.78-.78 2.05 0 2.83L4 21.41c.39.39.9.59 1.41.59.51 0 1.02-.2 1.41-.59l7.78-7.78 2.81-2.81c.8-.78.8-2.07 0-2.86zM5.41 20L4 18.59l7.72-7.72 1.47 1.35L5.41 20z\"/>\n",
              "  </svg>\n",
              "      </button>\n",
              "      \n",
              "  <style>\n",
              "    .colab-df-container {\n",
              "      display:flex;\n",
              "      flex-wrap:wrap;\n",
              "      gap: 12px;\n",
              "    }\n",
              "\n",
              "    .colab-df-convert {\n",
              "      background-color: #E8F0FE;\n",
              "      border: none;\n",
              "      border-radius: 50%;\n",
              "      cursor: pointer;\n",
              "      display: none;\n",
              "      fill: #1967D2;\n",
              "      height: 32px;\n",
              "      padding: 0 0 0 0;\n",
              "      width: 32px;\n",
              "    }\n",
              "\n",
              "    .colab-df-convert:hover {\n",
              "      background-color: #E2EBFA;\n",
              "      box-shadow: 0px 1px 2px rgba(60, 64, 67, 0.3), 0px 1px 3px 1px rgba(60, 64, 67, 0.15);\n",
              "      fill: #174EA6;\n",
              "    }\n",
              "\n",
              "    [theme=dark] .colab-df-convert {\n",
              "      background-color: #3B4455;\n",
              "      fill: #D2E3FC;\n",
              "    }\n",
              "\n",
              "    [theme=dark] .colab-df-convert:hover {\n",
              "      background-color: #434B5C;\n",
              "      box-shadow: 0px 1px 3px 1px rgba(0, 0, 0, 0.15);\n",
              "      filter: drop-shadow(0px 1px 2px rgba(0, 0, 0, 0.3));\n",
              "      fill: #FFFFFF;\n",
              "    }\n",
              "  </style>\n",
              "\n",
              "      <script>\n",
              "        const buttonEl =\n",
              "          document.querySelector('#df-2702d8b1-b1a7-4058-90f0-b27d9de8f12e button.colab-df-convert');\n",
              "        buttonEl.style.display =\n",
              "          google.colab.kernel.accessAllowed ? 'block' : 'none';\n",
              "\n",
              "        async function convertToInteractive(key) {\n",
              "          const element = document.querySelector('#df-2702d8b1-b1a7-4058-90f0-b27d9de8f12e');\n",
              "          const dataTable =\n",
              "            await google.colab.kernel.invokeFunction('convertToInteractive',\n",
              "                                                     [key], {});\n",
              "          if (!dataTable) return;\n",
              "\n",
              "          const docLinkHtml = 'Like what you see? Visit the ' +\n",
              "            '<a target=\"_blank\" href=https://colab.research.google.com/notebooks/data_table.ipynb>data table notebook</a>'\n",
              "            + ' to learn more about interactive tables.';\n",
              "          element.innerHTML = '';\n",
              "          dataTable['output_type'] = 'display_data';\n",
              "          await google.colab.output.renderOutput(dataTable, element);\n",
              "          const docLink = document.createElement('div');\n",
              "          docLink.innerHTML = docLinkHtml;\n",
              "          element.appendChild(docLink);\n",
              "        }\n",
              "      </script>\n",
              "    </div>\n",
              "  </div>\n",
              "  "
            ]
          },
          "metadata": {},
          "execution_count": 8
        }
      ],
      "source": [
        "# Use StandardScaler\n",
        "from sklearn.preprocessing import StandardScaler,LabelEncoder\n",
        "# instanciate scaler object\n",
        "scaler = StandardScaler()\n",
        "\n",
        "# fit scaler to our data\n",
        "scaler.fit(data)\n",
        "\n",
        "# scale our data\n",
        "x_scaled = scaler.transform(data)\n",
        "data_scaled = pd.DataFrame(x_scaled, columns=data.columns)\n",
        "data_scaled"
      ]
    },
    {
      "cell_type": "markdown",
      "metadata": {
        "id": "6LyNt_7cfnzT"
      },
      "source": [
        "\n",
        "##### We then instantiate a PCA object.\n",
        "\n",
        "The main parameter of this method is the max number of components. In this project, we will choose it to be equal to the max number of variables in the data.\n"
      ]
    },
    {
      "cell_type": "code",
      "execution_count": null,
      "metadata": {
        "id": "yinJmteEegD1"
      },
      "outputs": [],
      "source": [
        "from sklearn.decomposition import PCA\n",
        "\n",
        "# instanciate a PCA object\n",
        "pca = PCA(n_components=13)\n",
        "\n",
        "# fit the object to our data\n",
        "pca.fit(data_scaled)\n",
        "\n",
        "# apply PCA to our data to get new coordinates\n",
        "data_pca = pca.transform(data_scaled)\n",
        "\n"
      ]
    },
    {
      "cell_type": "markdown",
      "metadata": {
        "id": "P9rhEC4qRWb6"
      },
      "source": [
        "### Interpreting the components\n",
        "\n",
        "The next step is to choose the number of components to keep."
      ]
    },
    {
      "cell_type": "markdown",
      "source": [
        "##### Plot the explained variance of each component using the corrected variance."
      ],
      "metadata": {
        "id": "dyAaYjVFTlT7"
      }
    },
    {
      "cell_type": "code",
      "execution_count": null,
      "metadata": {
        "id": "_d-KWKTPegEB",
        "colab": {
          "base_uri": "https://localhost:8080/"
        },
        "outputId": "d61fbe65-fa6f-4472-850c-dcd64895be40"
      },
      "outputs": [
        {
          "output_type": "stream",
          "name": "stdout",
          "text": [
            "Explained variance\n",
            "[4.76560856 1.54220431 1.14485729 1.02402831 0.96830746 0.84287617\n",
            " 0.82726123 0.64396414 0.51971484 0.39361134 0.17729331 0.13930981\n",
            " 0.06317206]\n",
            "\n",
            "Corrected variance\n",
            "[4.78474755 1.54839791 1.14945511 1.02814087 0.97219624 0.84626122\n",
            " 0.83058356 0.64655034 0.52180204 0.39519211 0.17800534 0.13986929\n",
            " 0.06342577]\n"
          ]
        }
      ],
      "source": [
        "# Explained variance (eigenvalues)\n",
        "print(\"Explained variance\")\n",
        "print(pca.explained_variance_)\n",
        "\n",
        "# Corrected variance values\n",
        "n = len(data_pca) # number of samples\n",
        "corrected_variance = (n/(n-1))*pca.explained_variance_\n",
        "print(\"\\nCorrected variance\")\n",
        "print(corrected_variance)"
      ]
    },
    {
      "cell_type": "code",
      "execution_count": null,
      "metadata": {
        "id": "PmWJ-PM6egEF",
        "colab": {
          "base_uri": "https://localhost:8080/",
          "height": 472
        },
        "outputId": "066a74d9-ae2b-44d0-adb8-5af0ce19c1dd"
      },
      "outputs": [
        {
          "output_type": "display_data",
          "data": {
            "text/plain": [
              "<Figure size 640x480 with 1 Axes>"
            ],
            "image/png": "[encoded data removed]"
          },
          "metadata": {}
        }
      ],
      "source": [
        "# plot the explained variance of each component\n",
        "p = data_pca.shape[1] # number of components\n",
        "plt.plot(np.arange(1,p+1),corrected_variance, marker='.')\n",
        "plt.title(\"Scree plot\")\n",
        "plt.ylabel(\"Variance values\")\n",
        "plt.xlabel(\"Factor number\")\n",
        "plt.show()"
      ]
    },
    {
      "cell_type": "markdown",
      "source": [
        "##### Plot the cumulative variance of the components based on the explained variance ratio."
      ],
      "metadata": {
        "id": "M9yAYZd5j1ti"
      }
    },
    {
      "cell_type": "code",
      "source": [
        "pca.explained_variance_ratio_*100"
      ],
      "metadata": {
        "id": "MVl7HvPnfGTX",
        "colab": {
          "base_uri": "https://localhost:8080/"
        },
        "outputId": "2c46a781-1449-4206-cd08-02df49d72b72"
      },
      "execution_count": null,
      "outputs": [
        {
          "output_type": "execute_result",
          "data": {
            "text/plain": [
              "array([36.51189327, 11.81565767,  8.77136819,  7.84563229,  7.41872482,\n",
              "        6.45772821,  6.33809372,  4.93375603,  3.9818152 ,  3.0156684 ,\n",
              "        1.35833954,  1.06732746,  0.4839952 ])"
            ]
          },
          "metadata": {},
          "execution_count": 12
        }
      ]
    },
    {
      "cell_type": "code",
      "source": [
        "cumulative_var = np.cumsum(pca.explained_variance_ratio_*100)\n",
        "cumulative_var"
      ],
      "metadata": {
        "id": "Zab8xcV6fGWi",
        "colab": {
          "base_uri": "https://localhost:8080/"
        },
        "outputId": "e2d2bc8d-59f6-4e1c-8122-9c42b9433665"
      },
      "execution_count": null,
      "outputs": [
        {
          "output_type": "execute_result",
          "data": {
            "text/plain": [
              "array([ 36.51189327,  48.32755093,  57.09891912,  64.94455141,\n",
              "        72.36327623,  78.82100444,  85.15909816,  90.09285419,\n",
              "        94.07466939,  97.0903378 ,  98.44867734,  99.5160048 ,\n",
              "       100.        ])"
            ]
          },
          "metadata": {},
          "execution_count": 13
        }
      ]
    },
    {
      "cell_type": "code",
      "source": [
        "# plot the cumulative variance\n",
        "plt.figure(figsize=(10,7))\n",
        "plt.title(\"Cumulative variance\")\n",
        "plt.ylabel('% Variance Explained')\n",
        "plt.xlabel('Factor number')\n",
        "\n",
        "plt.hlines(y=97.09, xmin=0, xmax=10, color='red')\n",
        "plt.vlines(x=10.0, ymin=0, ymax=97.09,color='red')\n",
        "\n",
        "plt.hlines(y=90.0,xmin=0, xmax=8, color='purple')\n",
        "plt.vlines(x=8.0, ymin=0, ymax=90, color='purple')\n",
        "\n",
        "plt.hlines(y=50.0, xmin=0, xmax=2, color='green')\n",
        "plt.vlines(x=2.0,ymin=0, ymax=50, color='green')\n",
        "\n",
        "plt.ylim(0,100)\n",
        "plt.xlim(1,64)\n",
        "plt.yticks([0,50,90,95,100])\n",
        "plt.xticks([1,2,8,10,13])\n",
        "plt.style.context('seaborn-whitegrid')\n",
        "plt.plot(np.arange(1,p+1),cumulative_var)\n",
        "plt.show()"
      ],
      "metadata": {
        "colab": {
          "base_uri": "https://localhost:8080/",
          "height": 641
        },
        "id": "mfpyZUurFzBA",
        "outputId": "47741654-73ca-4d39-d4c2-b7a69b2521f2"
      },
      "execution_count": null,
      "outputs": [
        {
          "output_type": "display_data",
          "data": {
            "text/plain": [
              "<Figure size 1000x700 with 1 Axes>"
            ],
            "image/png": "[encoded data removed]"
          },
          "metadata": {}
        }
      ]
    },
    {
      "cell_type": "markdown",
      "source": [
        "##### How many components will you keep? Explain your choice.\n",
        "<p> We will keep 8 components"
      ],
      "metadata": {
        "id": "E2X5QPscllr_"
      }
    },
    {
      "cell_type": "code",
      "source": [
        "datapca = data_pca[:,:8]\n",
        "print(datapca.shape)\n",
        "#we kept 8 because with 8 components we have more that 90% of cumulated variance"
      ],
      "metadata": {
        "colab": {
          "base_uri": "https://localhost:8080/"
        },
        "id": "7wZU4wPoXk6Z",
        "outputId": "f1a67d38-4193-4ae7-9880-a535939fe2a5"
      },
      "execution_count": null,
      "outputs": [
        {
          "output_type": "stream",
          "name": "stdout",
          "text": [
            "(250, 8)\n"
          ]
        }
      ]
    },
    {
      "cell_type": "markdown",
      "source": [],
      "metadata": {
        "id": "DBsLf74ATgUR"
      }
    },
    {
      "cell_type": "markdown",
      "source": [
        "**Note:** If you do choose to keep all components in your analysis, you do not perform any dimension reduction."
      ],
      "metadata": {
        "id": "4EX8NeBIr-cF"
      }
    },
    {
      "cell_type": "markdown",
      "source": [
        "##### Create your reduced dimensionality dataset by only keeping the components you chose to keep in the above question."
      ],
      "metadata": {
        "id": "qytRrmdZvO89"
      }
    },
    {
      "cell_type": "code",
      "source": [
        "components = pd.DataFrame(pca.components_[:,:8], index=[f\"PC_{i}\" for i in range(len(pca.components_[:,:8]))])\n",
        "\n",
        "plt.figure(figsize=(17,15))\n",
        "sns.heatmap(components,cmap='coolwarm',)\n",
        "plt.show()"
      ],
      "metadata": {
        "id": "3Wkz9YhevcUT",
        "colab": {
          "base_uri": "https://localhost:8080/",
          "height": 1000
        },
        "outputId": "827ee29c-0da2-4f48-fc77-d7d878da0ca5"
      },
      "execution_count": null,
      "outputs": [
        {
          "output_type": "display_data",
          "data": {
            "text/plain": [
              "<Figure size 1700x1500 with 2 Axes>"
            ],
            "image/png": "[encoded data removed]"
          },
          "metadata": {}
        }
      ]
    },
    {
      "cell_type": "markdown",
      "source": [
        "##### What is the inertia percentage explained by the components you kept *(le pourcentage d’inertie expliquée par le premier axe factoriel)*?\n",
        "\n",
        "What does it mean?"
      ],
      "metadata": {
        "id": "l4Wci1C9tA7Q"
      }
    },
    {
      "cell_type": "code",
      "source": [
        "#The percentage of inertia is 90.092% is represented by the cumulated variance of the 8 components chosen"
      ],
      "metadata": {
        "id": "4AFOlRFDs_3B"
      },
      "execution_count": null,
      "outputs": []
    },
    {
      "cell_type": "markdown",
      "source": [],
      "metadata": {
        "id": "ZxdK5OpztILk"
      }
    },
    {
      "cell_type": "markdown",
      "source": [
        "##### Calculate the contribution of the first individual to the first component *(la contribution du premier individu au premier axe factoriel)*."
      ],
      "metadata": {
        "id": "2Q-G866qtI0R"
      }
    },
    {
      "cell_type": "code",
      "source": [
        "contribution=(((datapca[0,0]**2)/pca.explained_variance_[0])/8)\n",
        "#The contribution of the first individual\n",
        "\n",
        "\n",
        "print(contribution)"
      ],
      "metadata": {
        "id": "mM2Zh_YItWxq",
        "colab": {
          "base_uri": "https://localhost:8080/"
        },
        "outputId": "5cd1e841-9829-462f-f75e-fd7d3226fe9b"
      },
      "execution_count": null,
      "outputs": [
        {
          "output_type": "stream",
          "name": "stdout",
          "text": [
            "0.009122617805374721\n"
          ]
        }
      ]
    },
    {
      "cell_type": "markdown",
      "source": [],
      "metadata": {
        "id": "egUNHUaztW6y"
      }
    },
    {
      "cell_type": "markdown",
      "source": [
        "##### Calculate the quality of representation of this individual in the map made of the first factorial axis *(la qualité de représentation de cet individu dans le plan constitué du premier axe factoriel)*.\n",
        "\n",
        "What can you deduce?"
      ],
      "metadata": {
        "id": "D2BTTizXtXIG"
      }
    },
    {
      "cell_type": "code",
      "source": [
        "cos2 = datapca**2\n",
        "di = np.sum(data_scaled**2,axis=1)\n",
        "j=0\n",
        "cos2[:,j] = cos2[:,j]/di\n",
        "df_ctr_12 = pd.DataFrame({'individue':df.index,'qualité de representation sur l epremier axe':cos2[:,0]})\n",
        "df_ctr_12.head(1)\n",
        "#here we calculate the quality of representation of the individual to the firt factorial axis which is cos2_1\n",
        "#source https://www.kaggle.com/code/zoupet/acp-classification-correction/notebook\n"
      ],
      "metadata": {
        "id": "Jm4TFfkcTLBZ",
        "colab": {
          "base_uri": "https://localhost:8080/",
          "height": 81
        },
        "outputId": "84410a65-d009-4f52-9050-fc39b55b6bc1"
      },
      "execution_count": null,
      "outputs": [
        {
          "output_type": "execute_result",
          "data": {
            "text/plain": [
              "   individue  qualité de representation sur l epremier axe\n",
              "0          0                                      0.030943"
            ],
            "text/html": [
              "\n",
              "  <div id=\"df-9e42fdaf-b1a1-428c-a04f-1261670fa226\">\n",
              "    <div class=\"colab-df-container\">\n",
              "      <div>\n",
              "<style scoped>\n",
              "    .dataframe tbody tr th:only-of-type {\n",
              "        vertical-align: middle;\n",
              "    }\n",
              "\n",
              "    .dataframe tbody tr th {\n",
              "        vertical-align: top;\n",
              "    }\n",
              "\n",
              "    .dataframe thead th {\n",
              "        text-align: right;\n",
              "    }\n",
              "</style>\n",
              "<table border=\"1\" class=\"dataframe\">\n",
              "  <thead>\n",
              "    <tr style=\"text-align: right;\">\n",
              "      <th></th>\n",
              "      <th>individue</th>\n",
              "      <th>qualité de representation sur l epremier axe</th>\n",
              "    </tr>\n",
              "  </thead>\n",
              "  <tbody>\n",
              "    <tr>\n",
              "      <th>0</th>\n",
              "      <td>0</td>\n",
              "      <td>0.030943</td>\n",
              "    </tr>\n",
              "  </tbody>\n",
              "</table>\n",
              "</div>\n",
              "      <button class=\"colab-df-convert\" onclick=\"convertToInteractive('df-9e42fdaf-b1a1-428c-a04f-1261670fa226')\"\n",
              "              title=\"Convert this dataframe to an interactive table.\"\n",
              "              style=\"display:none;\">\n",
              "        \n",
              "  <svg xmlns=\"http://www.w3.org/2000/svg\" height=\"24px\"viewBox=\"0 0 24 24\"\n",
              "       width=\"24px\">\n",
              "    <path d=\"M0 0h24v24H0V0z\" fill=\"none\"/>\n",
              "    <path d=\"M18.56 5.44l.94 2.06.94-2.06 2.06-.94-2.06-.94-.94-2.06-.94 2.06-2.06.94zm-11 1L8.5 8.5l.94-2.06 2.06-.94-2.06-.94L8.5 2.5l-.94 2.06-2.06.94zm10 10l.94 2.06.94-2.06 2.06-.94-2.06-.94-.94-2.06-.94 2.06-2.06.94z\"/><path d=\"M17.41 7.96l-1.37-1.37c-.4-.4-.92-.59-1.43-.59-.52 0-1.04.2-1.43.59L10.3 9.45l-7.72 7.72c-.78.78-.78 2.05 0 2.83L4 21.41c.39.39.9.59 1.41.59.51 0 1.02-.2 1.41-.59l7.78-7.78 2.81-2.81c.8-.78.8-2.07 0-2.86zM5.41 20L4 18.59l7.72-7.72 1.47 1.35L5.41 20z\"/>\n",
              "  </svg>\n",
              "      </button>\n",
              "      \n",
              "  <style>\n",
              "    .colab-df-container {\n",
              "      display:flex;\n",
              "      flex-wrap:wrap;\n",
              "      gap: 12px;\n",
              "    }\n",
              "\n",
              "    .colab-df-convert {\n",
              "      background-color: #E8F0FE;\n",
              "      border: none;\n",
              "      border-radius: 50%;\n",
              "      cursor: pointer;\n",
              "      display: none;\n",
              "      fill: #1967D2;\n",
              "      height: 32px;\n",
              "      padding: 0 0 0 0;\n",
              "      width: 32px;\n",
              "    }\n",
              "\n",
              "    .colab-df-convert:hover {\n",
              "      background-color: #E2EBFA;\n",
              "      box-shadow: 0px 1px 2px rgba(60, 64, 67, 0.3), 0px 1px 3px 1px rgba(60, 64, 67, 0.15);\n",
              "      fill: #174EA6;\n",
              "    }\n",
              "\n",
              "    [theme=dark] .colab-df-convert {\n",
              "      background-color: #3B4455;\n",
              "      fill: #D2E3FC;\n",
              "    }\n",
              "\n",
              "    [theme=dark] .colab-df-convert:hover {\n",
              "      background-color: #434B5C;\n",
              "      box-shadow: 0px 1px 3px 1px rgba(0, 0, 0, 0.15);\n",
              "      filter: drop-shadow(0px 1px 2px rgba(0, 0, 0, 0.3));\n",
              "      fill: #FFFFFF;\n",
              "    }\n",
              "  </style>\n",
              "\n",
              "      <script>\n",
              "        const buttonEl =\n",
              "          document.querySelector('#df-9e42fdaf-b1a1-428c-a04f-1261670fa226 button.colab-df-convert');\n",
              "        buttonEl.style.display =\n",
              "          google.colab.kernel.accessAllowed ? 'block' : 'none';\n",
              "\n",
              "        async function convertToInteractive(key) {\n",
              "          const element = document.querySelector('#df-9e42fdaf-b1a1-428c-a04f-1261670fa226');\n",
              "          const dataTable =\n",
              "            await google.colab.kernel.invokeFunction('convertToInteractive',\n",
              "                                                     [key], {});\n",
              "          if (!dataTable) return;\n",
              "\n",
              "          const docLinkHtml = 'Like what you see? Visit the ' +\n",
              "            '<a target=\"_blank\" href=https://colab.research.google.com/notebooks/data_table.ipynb>data table notebook</a>'\n",
              "            + ' to learn more about interactive tables.';\n",
              "          element.innerHTML = '';\n",
              "          dataTable['output_type'] = 'display_data';\n",
              "          await google.colab.output.renderOutput(dataTable, element);\n",
              "          const docLink = document.createElement('div');\n",
              "          docLink.innerHTML = docLinkHtml;\n",
              "          element.appendChild(docLink);\n",
              "        }\n",
              "      </script>\n",
              "    </div>\n",
              "  </div>\n",
              "  "
            ]
          },
          "metadata": {},
          "execution_count": 62
        }
      ]
    },
    {
      "cell_type": "markdown",
      "source": [],
      "metadata": {
        "id": "exdvwVkMTMhD"
      }
    },
    {
      "cell_type": "markdown",
      "metadata": {
        "id": "qNPawU-kRWcB"
      },
      "source": [
        "### Variable representation"
      ]
    },
    {
      "cell_type": "markdown",
      "source": [
        "#### Compute the correlation between the principal components and the variables"
      ],
      "metadata": {
        "id": "NDgtw_pdpnRN"
      }
    },
    {
      "cell_type": "markdown",
      "source": [
        "##### Print the correlation matrix."
      ],
      "metadata": {
        "id": "I9qpisnLS9hv"
      }
    },
    {
      "cell_type": "code",
      "execution_count": null,
      "metadata": {
        "id": "VyVN383MegEQ",
        "colab": {
          "base_uri": "https://localhost:8080/"
        },
        "outputId": "91d75c85-8349-45ec-9370-0abda8331c55"
      },
      "outputs": [
        {
          "output_type": "stream",
          "name": "stdout",
          "text": [
            "[[ 0.4199313  -0.28871788 -0.42174473  0.3916644  -0.22531062 -0.07390535\n",
            "  -0.29267192  0.51836942  0.05761893 -0.007759    0.02358868 -0.05041109\n",
            "   0.00314507]\n",
            " [ 0.88844989 -0.10974644 -0.06998949 -0.09737386  0.13902581  0.15913994\n",
            "  -0.0086971  -0.06554323  0.1709176  -0.05779787  0.29199124  0.14744329\n",
            "   0.06085638]\n",
            " [-0.69065267 -0.3536064  -0.06820844 -0.25034748 -0.18434116 -0.08780037\n",
            "  -0.06781454 -0.01015632  0.34452206  0.40748381 -0.02578094  0.08001487\n",
            "   0.0220304 ]\n",
            " [ 0.34728125  0.4091574   0.52053671  0.10796557 -0.2736757  -0.19874274\n",
            "   0.38574217  0.25110808  0.32983992 -0.03663767  0.01435811 -0.02823175\n",
            "   0.00547221]\n",
            " [-0.91235005  0.06855444  0.04945131  0.17462587 -0.0967026  -0.06748108\n",
            "   0.03393292  0.13079975 -0.14232921 -0.15824124 -0.05204908  0.18064583\n",
            "   0.15881211]\n",
            " [ 0.93412304 -0.04324449 -0.03603067  0.08248939  0.0483951  -0.0346105\n",
            "  -0.01599111 -0.02629438  0.06910589 -0.03922301 -0.23003186  0.23621155\n",
            "  -0.07731693]\n",
            " [-0.01651927 -0.61771619  0.10361223  0.11738601 -0.10092262  0.58218426\n",
            "   0.48228258  0.10904049 -0.07762659  0.02651117 -0.03495794 -0.00981057\n",
            "  -0.0054647 ]\n",
            " [-0.29404217 -0.09273372 -0.09110765  0.50114397  0.71283949 -0.2273381\n",
            "   0.26099134  0.01016964  0.10338296  0.12046752  0.01605626 -0.00621597\n",
            "  -0.00157493]\n",
            " [-0.92920109  0.05222378  0.07666043  0.06958768 -0.1174211  -0.05519586\n",
            "   0.02808183  0.14670229 -0.1269807  -0.03359692  0.17271822  0.13378492\n",
            "  -0.16449836]\n",
            " [-0.16866242 -0.44642374  0.52676708 -0.35569286  0.40903534 -0.01143733\n",
            "  -0.29507098  0.29618366  0.07646799 -0.1634533  -0.03458191 -0.01649175\n",
            "  -0.00644528]\n",
            " [-0.25270871  0.44351578  0.29002658  0.40670802  0.0675977   0.53672841\n",
            "  -0.4117634  -0.04368801  0.14814165  0.10764522 -0.01498517  0.00913316\n",
            "  -0.00274026]\n",
            " [-0.00441105  0.60386862 -0.33876106 -0.43234316  0.2781822   0.23957516\n",
            "   0.16539834  0.39812307 -0.0609522   0.12513144 -0.03234823  0.02467848\n",
            "   0.00481289]\n",
            " [-0.68848507  0.02051034 -0.43134965 -0.07079871  0.01231833  0.15245448\n",
            "   0.06763084 -0.10458964  0.41521047 -0.35710059 -0.04378504 -0.03102503\n",
            "  -0.02887267]]\n"
          ]
        }
      ],
      "source": [
        "# Compute the correlation of the variables with the principal axes\n",
        "sqrt_cor_var = np.sqrt(corrected_variance)\n",
        "corvar = np.zeros((p,p))\n",
        "for k in range(p):\n",
        " corvar[:,k] = pca.components_[k,:] * sqrt_cor_var[k]\n",
        "\n",
        "# Print the correlation matrix \"variables x factors\"\n",
        "print(corvar)"
      ]
    },
    {
      "cell_type": "markdown",
      "source": [
        "##### Plot the correlation circle"
      ],
      "metadata": {
        "id": "mj5h-7-6TB3S"
      }
    },
    {
      "cell_type": "code",
      "execution_count": null,
      "metadata": {
        "id": "TZVt9bAoegEU",
        "colab": {
          "base_uri": "https://localhost:8080/",
          "height": 682
        },
        "outputId": "c0fce2bc-1e13-44d8-9a87-cb0946550808"
      },
      "outputs": [
        {
          "output_type": "display_data",
          "data": {
            "text/plain": [
              "<Figure size 800x800 with 1 Axes>"
            ],
            "image/png": "[encoded data removed]"
          },
          "metadata": {}
        }
      ],
      "source": [
        "# Correlation circle\n",
        "fig, axes = plt.subplots(figsize=(8,8))\n",
        "axes.set_xlim(-1,1)\n",
        "axes.set_ylim(-1,1)\n",
        "# Print the labels (variable names)\n",
        "for j in range(p):\n",
        "     plt.annotate(data.columns[j],(corvar[j,0],corvar[j,1]))\n",
        "# Add the axes\n",
        "plt.plot([-1,1],[0,0],color='silver',linestyle='-',linewidth=1)\n",
        "plt.plot([0,0],[-1,1],color='silver',linestyle='-',linewidth=1)\n",
        "\n",
        "# Add a circle\n",
        "cercle = plt.Circle((0,0),1,color='blue',fill=False)\n",
        "axes.add_artist(cercle)\n",
        "# Print the correlation circle\n",
        "plt.show()"
      ]
    },
    {
      "cell_type": "markdown",
      "source": [
        "##### Interpret the obtained results"
      ],
      "metadata": {
        "id": "Tz6BAESnTEYt"
      }
    },
    {
      "cell_type": "code",
      "source": [
        "\n",
        "#In ths circle we can see that the correlated variables are :\n",
        "#-  loudness and energy\n",
        "#-acousticness and instrumentalness\n",
        "\n",
        "#and the most representative ones are :\n",
        "#-loudness\n",
        "#-energy\n",
        "#-acousticness\n",
        "#-instrumentalness"
      ],
      "metadata": {
        "id": "XpWzpavE2e2X"
      },
      "execution_count": null,
      "outputs": []
    },
    {
      "cell_type": "markdown",
      "source": [],
      "metadata": {
        "id": "v2M4KXLUTHYE"
      }
    },
    {
      "cell_type": "markdown",
      "source": [
        "## Applying clustering on the newly created dataset."
      ],
      "metadata": {
        "id": "Wco8XUCXum56"
      }
    },
    {
      "cell_type": "markdown",
      "source": [
        "Recall in TD2_3.ipynb, you applied different clustering algorithms on your dataset and analyzed which method gave the best results on your dataset."
      ],
      "metadata": {
        "id": "g6nBalYFutE7"
      }
    },
    {
      "cell_type": "markdown",
      "source": [
        "##### Apply this clustering method to the dataset you obtained after applying PCA and performing dimension reduction."
      ],
      "metadata": {
        "id": "UjpCWeLnS1qt"
      }
    },
    {
      "cell_type": "code",
      "source": [
        "from sklearn.cluster import KMeans\n",
        "from sklearn import metrics\n",
        "\n",
        "\n",
        "\n",
        "kmeans = KMeans(n_clusters=5,max_iter=5000)\n",
        "k1=kmeans.fit(datapca)\n",
        "\n"
      ],
      "metadata": {
        "id": "1zc6KNBeusTt",
        "colab": {
          "base_uri": "https://localhost:8080/"
        },
        "outputId": "2034647b-7285-4f24-82cf-07ca74d4c420"
      },
      "execution_count": null,
      "outputs": [
        {
          "output_type": "stream",
          "name": "stderr",
          "text": [
            "/usr/local/lib/python3.9/dist-packages/sklearn/cluster/_kmeans.py:870: FutureWarning: The default value of `n_init` will change from 10 to 'auto' in 1.4. Set the value of `n_init` explicitly to suppress the warning\n",
            "  warnings.warn(\n"
          ]
        }
      ]
    },
    {
      "cell_type": "markdown",
      "source": [
        "##### Using the same metrics you used in TD2_3.ipynb, compare the results obtained with this method to the real classes."
      ],
      "metadata": {
        "id": "7rMQH3J7vwB0"
      }
    },
    {
      "cell_type": "code",
      "source": [
        "k1=kmeans.fit(datapca)\n",
        "\n",
        "print(k1.labels_)\n",
        "var = pd.Series(k1.labels_).value_counts()\n",
        "print(var)\n",
        "print(metrics.completeness_score(labels,k1.labels_))\n",
        "print(metrics.v_measure_score(labels,k1.labels_))\n",
        "print(metrics.homogeneity_score(labels,k1.labels_))\n",
        "print(metrics.adjusted_rand_score(labels,k1.labels_))\n",
        "print(metrics.rand_score(labels,k1.labels_))"
      ],
      "metadata": {
        "id": "l7gU4nZzv77M",
        "colab": {
          "base_uri": "https://localhost:8080/"
        },
        "outputId": "2a28c8f8-51ba-4434-c050-86b2dd0563a7"
      },
      "execution_count": null,
      "outputs": [
        {
          "output_type": "stream",
          "name": "stdout",
          "text": [
            "[2 4 4 4 2 2 2 2 2 4 2 2 2 2 0 4 4 2 2 4 2 4 2 4 4 2 2 1 2 2 4 4 0 2 0 2 4\n",
            " 1 2 2 2 2 4 2 4 2 2 2 4 2 1 2 4 1 4 4 2 4 2 1 0 2 0 2 2 4 2 0 4 4 1 2 4 2\n",
            " 2 2 2 1 2 4 2 2 1 2 4 0 1 4 1 1 0 1 2 2 1 4 1 1 0 2 2 0 2 4 4 2 2 2 2 2 2\n",
            " 2 0 0 4 4 4 2 4 0 4 2 2 2 2 2 2 2 2 2 0 4 2 2 2 2 4 4 4 2 0 2 2 2 0 2 2 4\n",
            " 2 2 3 3 3 3 3 3 3 3 3 3 3 3 3 4 3 3 3 3 3 3 3 3 3 3 3 3 3 3 3 3 3 3 3 3 4\n",
            " 3 3 3 3 3 3 3 3 3 3 3 3 3 3 3 0 0 0 0 0 0 0 0 0 0 0 0 2 0 0 0 0 0 2 0 0 0\n",
            " 0 0 0 0 1 0 0 0 0 4 0 0 0 4 0 0 1 2 0 0 0 0 0 0 0 0 0 2]\n",
            "2    83\n",
            "0    58\n",
            "3    48\n",
            "4    44\n",
            "1    17\n",
            "dtype: int64\n",
            "0.47285488711741125\n",
            "0.4578500323678421\n",
            "0.44376817103926763\n",
            "0.3760497976769169\n",
            "0.7888835341365462\n"
          ]
        },
        {
          "output_type": "stream",
          "name": "stderr",
          "text": [
            "/usr/local/lib/python3.9/dist-packages/sklearn/cluster/_kmeans.py:870: FutureWarning: The default value of `n_init` will change from 10 to 'auto' in 1.4. Set the value of `n_init` explicitly to suppress the warning\n",
            "  warnings.warn(\n"
          ]
        }
      ]
    },
    {
      "cell_type": "code",
      "source": [
        "k2=kmeans.fit(data_scaled)\n",
        "print(k2.labels_)\n",
        "var2 = pd.Series(k2.labels_).value_counts()\n",
        "print(var2)\n",
        "print(metrics.completeness_score(labels,k2.labels_))\n",
        "print(metrics.v_measure_score(labels,k2.labels_))\n",
        "print(metrics.homogeneity_score(labels,k2.labels_))\n",
        "print(metrics.adjusted_rand_score(labels,k2.labels_))\n",
        "print(metrics.rand_score(labels,k2.labels_))"
      ],
      "metadata": {
        "id": "38QpAQtZv8gm",
        "colab": {
          "base_uri": "https://localhost:8080/"
        },
        "outputId": "22d7fff9-2f80-4345-f005-75bf8e9a76a8"
      },
      "execution_count": null,
      "outputs": [
        {
          "output_type": "stream",
          "name": "stdout",
          "text": [
            "[1 1 1 1 1 1 1 1 1 1 1 1 1 1 4 1 1 3 3 1 1 1 1 1 1 1 1 3 3 1 1 1 4 3 4 3 1\n",
            " 0 1 1 1 1 1 1 1 3 1 3 1 1 3 1 1 0 1 1 1 1 1 0 4 1 3 1 1 1 1 4 1 1 0 1 1 1\n",
            " 1 1 1 0 1 1 1 3 3 1 1 4 0 1 0 0 4 0 1 3 0 1 0 0 4 1 3 4 3 1 1 1 1 1 1 1 1\n",
            " 1 4 4 1 1 1 1 1 4 1 1 1 1 1 1 1 1 1 3 4 1 1 1 1 1 1 1 1 4 4 1 3 1 4 1 1 1\n",
            " 1 1 2 2 2 2 2 2 2 2 2 2 2 2 2 1 2 2 2 2 2 2 2 2 2 2 2 2 2 2 2 2 2 2 2 2 1\n",
            " 2 2 2 2 2 2 2 2 2 2 2 2 2 2 2 4 4 3 4 4 4 4 4 4 4 3 1 1 4 4 4 4 4 1 4 3 4\n",
            " 4 4 4 3 0 4 4 4 4 1 4 4 4 1 4 4 0 3 4 4 4 3 3 4 4 4 4 1]\n",
            "1    113\n",
            "4     51\n",
            "2     48\n",
            "3     24\n",
            "0     14\n",
            "dtype: int64\n",
            "0.47515881243968566\n",
            "0.43979010455915574\n",
            "0.4093219963421019\n",
            "0.3302847298807178\n",
            "0.7494939759036144\n"
          ]
        },
        {
          "output_type": "stream",
          "name": "stderr",
          "text": [
            "/usr/local/lib/python3.9/dist-packages/sklearn/cluster/_kmeans.py:870: FutureWarning: The default value of `n_init` will change from 10 to 'auto' in 1.4. Set the value of `n_init` explicitly to suppress the warning\n",
            "  warnings.warn(\n"
          ]
        }
      ]
    },
    {
      "cell_type": "code",
      "source": [
        "#Yes, dimensionality reduction helped us in getting slightly better results ; as we have fewer data which means less complexity and this also helps visualize the data faster but it seems random because each time we run the clustering we get different result"
      ],
      "metadata": {
        "id": "C0_bYM4sv9Jt"
      },
      "execution_count": null,
      "outputs": []
    },
    {
      "cell_type": "markdown",
      "source": [
        "##### In your opinion, did dimensionality reduction help you in getting better results or not?"
      ],
      "metadata": {
        "id": "rhze0hqxv-YD"
      }
    },
    {
      "cell_type": "markdown",
      "source": [],
      "metadata": {
        "id": "uk5jlzG_wJnr"
      }
    },
    {
      "cell_type": "markdown",
      "source": [
        "## Part 2: Apply CCA\n",
        "\n",
        "Next steps:\n",
        "   - Apply CCA /!\\ Don't forget to split the dataset into two groups,i.e., p=3 and q=3\n",
        "   - Analyze the correlation circle *(graphe des variables)*\n",
        "   - Analyze the observation graph *(graphe des individus)*\n",
        "\n",
        "**<font color='red'>N.B:</font>** For the purpose of this part of the project, we will scale use continuous and numerical variables.\n",
        "CCA is designed for continuous variables, so theoretically you should only apply it to the data that was already continuous in your original dataset. To make this project easier and more comparable between groups, we have decided to let you apply it on all features."
      ],
      "metadata": {
        "id": "l0AlAlgJwTkI"
      }
    },
    {
      "cell_type": "markdown",
      "source": [
        "### Choice of the two groups"
      ],
      "metadata": {
        "id": "WJeqzQ9HPaIc"
      }
    },
    {
      "cell_type": "markdown",
      "source": [
        "##### Show the correlation matrix of the data"
      ],
      "metadata": {
        "id": "V3MXv0b6Mad7"
      }
    },
    {
      "cell_type": "code",
      "source": [
        "corr_matrix = data_scaled.corr()\n",
        "corr_matrix.style.background_gradient(cmap='coolwarm')"
      ],
      "metadata": {
        "id": "DxI6BPldMZ9S",
        "colab": {
          "base_uri": "https://localhost:8080/",
          "height": 457
        },
        "outputId": "faa07bc3-4f71-46f3-bf39-bb1bf620a449"
      },
      "execution_count": null,
      "outputs": [
        {
          "output_type": "execute_result",
          "data": {
            "text/plain": [
              "<pandas.io.formats.style.Styler at 0x7f2752e30ee0>"
            ],
            "text/html": [
              "<style type=\"text/css\">\n",
              "#T_da436_row0_col0, #T_da436_row1_col1, #T_da436_row2_col2, #T_da436_row3_col3, #T_da436_row4_col4, #T_da436_row5_col5, #T_da436_row6_col6, #T_da436_row7_col7, #T_da436_row8_col8, #T_da436_row9_col9, #T_da436_row10_col10, #T_da436_row11_col11, #T_da436_row12_col12 {\n",
              "  background-color: #b40426;\n",
              "  color: #f1f1f1;\n",
              "}\n",
              "#T_da436_row0_col1 {\n",
              "  background-color: #f5c0a7;\n",
              "  color: #000000;\n",
              "}\n",
              "#T_da436_row0_col2, #T_da436_row2_col6 {\n",
              "  background-color: #93b5fe;\n",
              "  color: #000000;\n",
              "}\n",
              "#T_da436_row0_col3, #T_da436_row0_col6, #T_da436_row7_col10, #T_da436_row10_col11 {\n",
              "  background-color: #85a8fc;\n",
              "  color: #f1f1f1;\n",
              "}\n",
              "#T_da436_row0_col4 {\n",
              "  background-color: #a1c0ff;\n",
              "  color: #000000;\n",
              "}\n",
              "#T_da436_row0_col5 {\n",
              "  background-color: #f7b093;\n",
              "  color: #000000;\n",
              "}\n",
              "#T_da436_row0_col7 {\n",
              "  background-color: #5f7fe8;\n",
              "  color: #f1f1f1;\n",
              "}\n",
              "#T_da436_row0_col8 {\n",
              "  background-color: #9dbdff;\n",
              "  color: #000000;\n",
              "}\n",
              "#T_da436_row0_col9, #T_da436_row1_col4, #T_da436_row1_col7, #T_da436_row4_col1, #T_da436_row5_col2, #T_da436_row5_col8, #T_da436_row5_col9, #T_da436_row5_col10, #T_da436_row5_col12, #T_da436_row6_col11, #T_da436_row8_col0, #T_da436_row8_col5, #T_da436_row11_col6, #T_da436_row12_col3 {\n",
              "  background-color: #3b4cc0;\n",
              "  color: #f1f1f1;\n",
              "}\n",
              "#T_da436_row0_col10, #T_da436_row9_col11 {\n",
              "  background-color: #4e68d8;\n",
              "  color: #f1f1f1;\n",
              "}\n",
              "#T_da436_row0_col11, #T_da436_row2_col11 {\n",
              "  background-color: #4f69d9;\n",
              "  color: #f1f1f1;\n",
              "}\n",
              "#T_da436_row0_col12 {\n",
              "  background-color: #8badfd;\n",
              "  color: #000000;\n",
              "}\n",
              "#T_da436_row1_col0, #T_da436_row7_col12 {\n",
              "  background-color: #dadce0;\n",
              "  color: #000000;\n",
              "}\n",
              "#T_da436_row1_col2 {\n",
              "  background-color: #4961d2;\n",
              "  color: #f1f1f1;\n",
              "}\n",
              "#T_da436_row1_col3 {\n",
              "  background-color: #bed2f6;\n",
              "  color: #000000;\n",
              "}\n",
              "#T_da436_row1_col5 {\n",
              "  background-color: #d75445;\n",
              "  color: #f1f1f1;\n",
              "}\n",
              "#T_da436_row1_col6, #T_da436_row2_col7, #T_da436_row9_col7, #T_da436_row11_col10 {\n",
              "  background-color: #88abfd;\n",
              "  color: #000000;\n",
              "}\n",
              "#T_da436_row1_col8, #T_da436_row5_col7 {\n",
              "  background-color: #4055c8;\n",
              "  color: #f1f1f1;\n",
              "}\n",
              "#T_da436_row1_col9 {\n",
              "  background-color: #5470de;\n",
              "  color: #f1f1f1;\n",
              "}\n",
              "#T_da436_row1_col10 {\n",
              "  background-color: #3d50c3;\n",
              "  color: #f1f1f1;\n",
              "}\n",
              "#T_da436_row1_col11, #T_da436_row7_col9 {\n",
              "  background-color: #799cf8;\n",
              "  color: #f1f1f1;\n",
              "}\n",
              "#T_da436_row1_col12 {\n",
              "  background-color: #506bda;\n",
              "  color: #f1f1f1;\n",
              "}\n",
              "#T_da436_row2_col0, #T_da436_row4_col3, #T_da436_row6_col10, #T_da436_row8_col3 {\n",
              "  background-color: #5a78e4;\n",
              "  color: #f1f1f1;\n",
              "}\n",
              "#T_da436_row2_col1, #T_da436_row8_col11 {\n",
              "  background-color: #7295f4;\n",
              "  color: #f1f1f1;\n",
              "}\n",
              "#T_da436_row2_col3, #T_da436_row3_col9, #T_da436_row4_col0 {\n",
              "  background-color: #4257c9;\n",
              "  color: #f1f1f1;\n",
              "}\n",
              "#T_da436_row2_col4, #T_da436_row4_col12 {\n",
              "  background-color: #f6a586;\n",
              "  color: #000000;\n",
              "}\n",
              "#T_da436_row2_col5 {\n",
              "  background-color: #6485ec;\n",
              "  color: #f1f1f1;\n",
              "}\n",
              "#T_da436_row2_col8 {\n",
              "  background-color: #f29274;\n",
              "  color: #f1f1f1;\n",
              "}\n",
              "#T_da436_row2_col9 {\n",
              "  background-color: #a9c6fd;\n",
              "  color: #000000;\n",
              "}\n",
              "#T_da436_row2_col10, #T_da436_row12_col5 {\n",
              "  background-color: #6b8df0;\n",
              "  color: #f1f1f1;\n",
              "}\n",
              "#T_da436_row2_col12, #T_da436_row4_col2 {\n",
              "  background-color: #f7b497;\n",
              "  color: #000000;\n",
              "}\n",
              "#T_da436_row3_col0, #T_da436_row3_col10 {\n",
              "  background-color: #81a4fb;\n",
              "  color: #f1f1f1;\n",
              "}\n",
              "#T_da436_row3_col1, #T_da436_row5_col0 {\n",
              "  background-color: #ebd3c6;\n",
              "  color: #000000;\n",
              "}\n",
              "#T_da436_row3_col2, #T_da436_row7_col0, #T_da436_row12_col6 {\n",
              "  background-color: #779af7;\n",
              "  color: #f1f1f1;\n",
              "}\n",
              "#T_da436_row3_col4 {\n",
              "  background-color: #b1cbfc;\n",
              "  color: #000000;\n",
              "}\n",
              "#T_da436_row3_col5 {\n",
              "  background-color: #f4c6af;\n",
              "  color: #000000;\n",
              "}\n",
              "#T_da436_row3_col6 {\n",
              "  background-color: #5977e3;\n",
              "  color: #f1f1f1;\n",
              "}\n",
              "#T_da436_row3_col7 {\n",
              "  background-color: #4b64d5;\n",
              "  color: #f1f1f1;\n",
              "}\n",
              "#T_da436_row3_col8, #T_da436_row8_col7, #T_da436_row10_col2 {\n",
              "  background-color: #b2ccfb;\n",
              "  color: #000000;\n",
              "}\n",
              "#T_da436_row3_col11 {\n",
              "  background-color: #7da0f9;\n",
              "  color: #f1f1f1;\n",
              "}\n",
              "#T_da436_row3_col12 {\n",
              "  background-color: #6a8bef;\n",
              "  color: #f1f1f1;\n",
              "}\n",
              "#T_da436_row4_col5 {\n",
              "  background-color: #455cce;\n",
              "  color: #f1f1f1;\n",
              "}\n",
              "#T_da436_row4_col6 {\n",
              "  background-color: #7597f6;\n",
              "  color: #f1f1f1;\n",
              "}\n",
              "#T_da436_row4_col7 {\n",
              "  background-color: #bfd3f6;\n",
              "  color: #000000;\n",
              "}\n",
              "#T_da436_row4_col8, #T_da436_row8_col4 {\n",
              "  background-color: #c53334;\n",
              "  color: #f1f1f1;\n",
              "}\n",
              "#T_da436_row4_col9, #T_da436_row12_col1 {\n",
              "  background-color: #7ea1fa;\n",
              "  color: #f1f1f1;\n",
              "}\n",
              "#T_da436_row4_col10, #T_da436_row9_col5 {\n",
              "  background-color: #bbd1f8;\n",
              "  color: #000000;\n",
              "}\n",
              "#T_da436_row4_col11, #T_da436_row7_col3, #T_da436_row11_col7 {\n",
              "  background-color: #688aef;\n",
              "  color: #f1f1f1;\n",
              "}\n",
              "#T_da436_row5_col1 {\n",
              "  background-color: #d85646;\n",
              "  color: #f1f1f1;\n",
              "}\n",
              "#T_da436_row5_col3, #T_da436_row6_col8 {\n",
              "  background-color: #d5dbe5;\n",
              "  color: #000000;\n",
              "}\n",
              "#T_da436_row5_col4 {\n",
              "  background-color: #4358cb;\n",
              "  color: #f1f1f1;\n",
              "}\n",
              "#T_da436_row5_col6 {\n",
              "  background-color: #6e90f2;\n",
              "  color: #f1f1f1;\n",
              "}\n",
              "#T_da436_row5_col11 {\n",
              "  background-color: #6282ea;\n",
              "  color: #f1f1f1;\n",
              "}\n",
              "#T_da436_row6_col0 {\n",
              "  background-color: #9bbcff;\n",
              "  color: #000000;\n",
              "}\n",
              "#T_da436_row6_col1 {\n",
              "  background-color: #dddcdc;\n",
              "  color: #000000;\n",
              "}\n",
              "#T_da436_row6_col2, #T_da436_row11_col12 {\n",
              "  background-color: #cfdaea;\n",
              "  color: #000000;\n",
              "}\n",
              "#T_da436_row6_col3, #T_da436_row8_col6 {\n",
              "  background-color: #7699f6;\n",
              "  color: #f1f1f1;\n",
              "}\n",
              "#T_da436_row6_col4 {\n",
              "  background-color: #d4dbe6;\n",
              "  color: #000000;\n",
              "}\n",
              "#T_da436_row6_col5 {\n",
              "  background-color: #d1dae9;\n",
              "  color: #000000;\n",
              "}\n",
              "#T_da436_row6_col7, #T_da436_row7_col6 {\n",
              "  background-color: #7b9ff9;\n",
              "  color: #f1f1f1;\n",
              "}\n",
              "#T_da436_row6_col9, #T_da436_row8_col9 {\n",
              "  background-color: #89acfd;\n",
              "  color: #000000;\n",
              "}\n",
              "#T_da436_row6_col12 {\n",
              "  background-color: #b9d0f9;\n",
              "  color: #000000;\n",
              "}\n",
              "#T_da436_row7_col1, #T_da436_row10_col1, #T_da436_row10_col5 {\n",
              "  background-color: #aec9fc;\n",
              "  color: #000000;\n",
              "}\n",
              "#T_da436_row7_col2 {\n",
              "  background-color: #c7d7f0;\n",
              "  color: #000000;\n",
              "}\n",
              "#T_da436_row7_col4 {\n",
              "  background-color: #f2cab5;\n",
              "  color: #000000;\n",
              "}\n",
              "#T_da436_row7_col5 {\n",
              "  background-color: #b5cdfa;\n",
              "  color: #000000;\n",
              "}\n",
              "#T_da436_row7_col8 {\n",
              "  background-color: #efcfbf;\n",
              "  color: #000000;\n",
              "}\n",
              "#T_da436_row7_col11, #T_da436_row11_col0 {\n",
              "  background-color: #6788ee;\n",
              "  color: #f1f1f1;\n",
              "}\n",
              "#T_da436_row8_col1, #T_da436_row11_col9 {\n",
              "  background-color: #3e51c5;\n",
              "  color: #f1f1f1;\n",
              "}\n",
              "#T_da436_row8_col2 {\n",
              "  background-color: #f5a081;\n",
              "  color: #000000;\n",
              "}\n",
              "#T_da436_row8_col10 {\n",
              "  background-color: #b6cefa;\n",
              "  color: #000000;\n",
              "}\n",
              "#T_da436_row8_col12 {\n",
              "  background-color: #f7ac8e;\n",
              "  color: #000000;\n",
              "}\n",
              "#T_da436_row9_col0, #T_da436_row10_col0 {\n",
              "  background-color: #6384eb;\n",
              "  color: #f1f1f1;\n",
              "}\n",
              "#T_da436_row9_col1 {\n",
              "  background-color: #cad8ef;\n",
              "  color: #000000;\n",
              "}\n",
              "#T_da436_row9_col2 {\n",
              "  background-color: #e2dad5;\n",
              "  color: #000000;\n",
              "}\n",
              "#T_da436_row9_col3, #T_da436_row9_col10 {\n",
              "  background-color: #6f92f3;\n",
              "  color: #f1f1f1;\n",
              "}\n",
              "#T_da436_row9_col4 {\n",
              "  background-color: #dfdbd9;\n",
              "  color: #000000;\n",
              "}\n",
              "#T_da436_row9_col6 {\n",
              "  background-color: #97b8ff;\n",
              "  color: #000000;\n",
              "}\n",
              "#T_da436_row9_col8 {\n",
              "  background-color: #e5d8d1;\n",
              "  color: #000000;\n",
              "}\n",
              "#T_da436_row9_col12, #T_da436_row12_col7 {\n",
              "  background-color: #abc8fd;\n",
              "  color: #000000;\n",
              "}\n",
              "#T_da436_row10_col3, #T_da436_row11_col3, #T_da436_row12_col11 {\n",
              "  background-color: #98b9ff;\n",
              "  color: #000000;\n",
              "}\n",
              "#T_da436_row10_col4 {\n",
              "  background-color: #f1ccb8;\n",
              "  color: #000000;\n",
              "}\n",
              "#T_da436_row10_col6 {\n",
              "  background-color: #5875e1;\n",
              "  color: #f1f1f1;\n",
              "}\n",
              "#T_da436_row10_col7 {\n",
              "  background-color: #84a7fc;\n",
              "  color: #f1f1f1;\n",
              "}\n",
              "#T_da436_row10_col8 {\n",
              "  background-color: #f0cdbb;\n",
              "  color: #000000;\n",
              "}\n",
              "#T_da436_row10_col9 {\n",
              "  background-color: #5d7ce6;\n",
              "  color: #f1f1f1;\n",
              "}\n",
              "#T_da436_row10_col12 {\n",
              "  background-color: #ccd9ed;\n",
              "  color: #000000;\n",
              "}\n",
              "#T_da436_row11_col1 {\n",
              "  background-color: #d6dce4;\n",
              "  color: #000000;\n",
              "}\n",
              "#T_da436_row11_col2 {\n",
              "  background-color: #9ebeff;\n",
              "  color: #000000;\n",
              "}\n",
              "#T_da436_row11_col4 {\n",
              "  background-color: #cdd9ec;\n",
              "  color: #000000;\n",
              "}\n",
              "#T_da436_row11_col5 {\n",
              "  background-color: #cbd8ee;\n",
              "  color: #000000;\n",
              "}\n",
              "#T_da436_row11_col8 {\n",
              "  background-color: #d3dbe7;\n",
              "  color: #000000;\n",
              "}\n",
              "#T_da436_row12_col0 {\n",
              "  background-color: #5673e0;\n",
              "  color: #f1f1f1;\n",
              "}\n",
              "#T_da436_row12_col2 {\n",
              "  background-color: #f7b396;\n",
              "  color: #000000;\n",
              "}\n",
              "#T_da436_row12_col4 {\n",
              "  background-color: #f39475;\n",
              "  color: #000000;\n",
              "}\n",
              "#T_da436_row12_col8 {\n",
              "  background-color: #f49a7b;\n",
              "  color: #000000;\n",
              "}\n",
              "#T_da436_row12_col9 {\n",
              "  background-color: #5572df;\n",
              "  color: #f1f1f1;\n",
              "}\n",
              "#T_da436_row12_col10 {\n",
              "  background-color: #96b7ff;\n",
              "  color: #000000;\n",
              "}\n",
              "</style>\n",
              "<table id=\"T_da436\" class=\"dataframe\">\n",
              "  <thead>\n",
              "    <tr>\n",
              "      <th class=\"blank level0\" >&nbsp;</th>\n",
              "      <th id=\"T_da436_level0_col0\" class=\"col_heading level0 col0\" >artist</th>\n",
              "      <th id=\"T_da436_level0_col1\" class=\"col_heading level0 col1\" >acousticness</th>\n",
              "      <th id=\"T_da436_level0_col2\" class=\"col_heading level0 col2\" >danceability</th>\n",
              "      <th id=\"T_da436_level0_col3\" class=\"col_heading level0 col3\" >duration_ms</th>\n",
              "      <th id=\"T_da436_level0_col4\" class=\"col_heading level0 col4\" >energy</th>\n",
              "      <th id=\"T_da436_level0_col5\" class=\"col_heading level0 col5\" >instrumentalness</th>\n",
              "      <th id=\"T_da436_level0_col6\" class=\"col_heading level0 col6\" >key</th>\n",
              "      <th id=\"T_da436_level0_col7\" class=\"col_heading level0 col7\" >liveness</th>\n",
              "      <th id=\"T_da436_level0_col8\" class=\"col_heading level0 col8\" >loudness</th>\n",
              "      <th id=\"T_da436_level0_col9\" class=\"col_heading level0 col9\" >speechiness</th>\n",
              "      <th id=\"T_da436_level0_col10\" class=\"col_heading level0 col10\" >tempo</th>\n",
              "      <th id=\"T_da436_level0_col11\" class=\"col_heading level0 col11\" >mode</th>\n",
              "      <th id=\"T_da436_level0_col12\" class=\"col_heading level0 col12\" >valence</th>\n",
              "    </tr>\n",
              "  </thead>\n",
              "  <tbody>\n",
              "    <tr>\n",
              "      <th id=\"T_da436_level0_row0\" class=\"row_heading level0 row0\" >artist</th>\n",
              "      <td id=\"T_da436_row0_col0\" class=\"data row0 col0\" >1.000000</td>\n",
              "      <td id=\"T_da436_row0_col1\" class=\"data row0 col1\" >0.328934</td>\n",
              "      <td id=\"T_da436_row0_col2\" class=\"data row0 col2\" >-0.181040</td>\n",
              "      <td id=\"T_da436_row0_col3\" class=\"data row0 col3\" >-0.034576</td>\n",
              "      <td id=\"T_da436_row0_col4\" class=\"data row0 col4\" >-0.285244</td>\n",
              "      <td id=\"T_da436_row0_col5\" class=\"data row0 col5\" >0.418303</td>\n",
              "      <td id=\"T_da436_row0_col6\" class=\"data row0 col6\" >0.063237</td>\n",
              "      <td id=\"T_da436_row0_col7\" class=\"data row0 col7\" >-0.070643</td>\n",
              "      <td id=\"T_da436_row0_col8\" class=\"data row0 col8\" >-0.319662</td>\n",
              "      <td id=\"T_da436_row0_col9\" class=\"data row0 col9\" >-0.147972</td>\n",
              "      <td id=\"T_da436_row0_col10\" class=\"data row0 col10\" >-0.146173</td>\n",
              "      <td id=\"T_da436_row0_col11\" class=\"data row0 col11\" >-0.130503</td>\n",
              "      <td id=\"T_da436_row0_col12\" class=\"data row0 col12\" >-0.200154</td>\n",
              "    </tr>\n",
              "    <tr>\n",
              "      <th id=\"T_da436_level0_row1\" class=\"row_heading level0 row1\" >acousticness</th>\n",
              "      <td id=\"T_da436_row1_col0\" class=\"data row1 col0\" >0.328934</td>\n",
              "      <td id=\"T_da436_row1_col1\" class=\"data row1 col1\" >1.000000</td>\n",
              "      <td id=\"T_da436_row1_col2\" class=\"data row1 col2\" >-0.538718</td>\n",
              "      <td id=\"T_da436_row1_col3\" class=\"data row1 col3\" >0.184575</td>\n",
              "      <td id=\"T_da436_row1_col4\" class=\"data row1 col4\" >-0.858784</td>\n",
              "      <td id=\"T_da436_row1_col5\" class=\"data row1 col5\" >0.802812</td>\n",
              "      <td id=\"T_da436_row1_col6\" class=\"data row1 col6\" >0.074325</td>\n",
              "      <td id=\"T_da436_row1_col7\" class=\"data row1 col7\" >-0.217366</td>\n",
              "      <td id=\"T_da436_row1_col8\" class=\"data row1 col8\" >-0.831313</td>\n",
              "      <td id=\"T_da436_row1_col9\" class=\"data row1 col9\" >-0.054851</td>\n",
              "      <td id=\"T_da436_row1_col10\" class=\"data row1 col10\" >-0.214211</td>\n",
              "      <td id=\"T_da436_row1_col11\" class=\"data row1 col11\" >0.021548</td>\n",
              "      <td id=\"T_da436_row1_col12\" class=\"data row1 col12\" >-0.468351</td>\n",
              "    </tr>\n",
              "    <tr>\n",
              "      <th id=\"T_da436_level0_row2\" class=\"row_heading level0 row2\" >danceability</th>\n",
              "      <td id=\"T_da436_row2_col0\" class=\"data row2 col0\" >-0.181040</td>\n",
              "      <td id=\"T_da436_row2_col1\" class=\"data row2 col1\" >-0.538718</td>\n",
              "      <td id=\"T_da436_row2_col2\" class=\"data row2 col2\" >1.000000</td>\n",
              "      <td id=\"T_da436_row2_col3\" class=\"data row2 col3\" >-0.309187</td>\n",
              "      <td id=\"T_da436_row2_col4\" class=\"data row2 col4\" >0.480816</td>\n",
              "      <td id=\"T_da436_row2_col5\" class=\"data row2 col5\" >-0.616671</td>\n",
              "      <td id=\"T_da436_row2_col6\" class=\"data row2 col6\" >0.110225</td>\n",
              "      <td id=\"T_da436_row2_col7\" class=\"data row2 col7\" >0.070571</td>\n",
              "      <td id=\"T_da436_row2_col8\" class=\"data row2 col8\" >0.564384</td>\n",
              "      <td id=\"T_da436_row2_col9\" class=\"data row2 col9\" >0.227406</td>\n",
              "      <td id=\"T_da436_row2_col10\" class=\"data row2 col10\" >-0.038844</td>\n",
              "      <td id=\"T_da436_row2_col11\" class=\"data row2 col11\" >-0.132745</td>\n",
              "      <td id=\"T_da436_row2_col12\" class=\"data row2 col12\" >0.487837</td>\n",
              "    </tr>\n",
              "    <tr>\n",
              "      <th id=\"T_da436_level0_row3\" class=\"row_heading level0 row3\" >duration_ms</th>\n",
              "      <td id=\"T_da436_row3_col0\" class=\"data row3 col0\" >-0.034576</td>\n",
              "      <td id=\"T_da436_row3_col1\" class=\"data row3 col1\" >0.184575</td>\n",
              "      <td id=\"T_da436_row3_col2\" class=\"data row3 col2\" >-0.309187</td>\n",
              "      <td id=\"T_da436_row3_col3\" class=\"data row3 col3\" >1.000000</td>\n",
              "      <td id=\"T_da436_row3_col4\" class=\"data row3 col4\" >-0.202881</td>\n",
              "      <td id=\"T_da436_row3_col5\" class=\"data row3 col5\" >0.289232</td>\n",
              "      <td id=\"T_da436_row3_col6\" class=\"data row3 col6\" >-0.092625</td>\n",
              "      <td id=\"T_da436_row3_col7\" class=\"data row3 col7\" >-0.148772</td>\n",
              "      <td id=\"T_da436_row3_col8\" class=\"data row3 col8\" >-0.204338</td>\n",
              "      <td id=\"T_da436_row3_col9\" class=\"data row3 col9\" >-0.122419</td>\n",
              "      <td id=\"T_da436_row3_col10\" class=\"data row3 col10\" >0.037738</td>\n",
              "      <td id=\"T_da436_row3_col11\" class=\"data row3 col11\" >0.036440</td>\n",
              "      <td id=\"T_da436_row3_col12\" class=\"data row3 col12\" >-0.343836</td>\n",
              "    </tr>\n",
              "    <tr>\n",
              "      <th id=\"T_da436_level0_row4\" class=\"row_heading level0 row4\" >energy</th>\n",
              "      <td id=\"T_da436_row4_col0\" class=\"data row4 col0\" >-0.285244</td>\n",
              "      <td id=\"T_da436_row4_col1\" class=\"data row4 col1\" >-0.858784</td>\n",
              "      <td id=\"T_da436_row4_col2\" class=\"data row4 col2\" >0.480816</td>\n",
              "      <td id=\"T_da436_row4_col3\" class=\"data row4 col3\" >-0.202881</td>\n",
              "      <td id=\"T_da436_row4_col4\" class=\"data row4 col4\" >1.000000</td>\n",
              "      <td id=\"T_da436_row4_col5\" class=\"data row4 col5\" >-0.803711</td>\n",
              "      <td id=\"T_da436_row4_col6\" class=\"data row4 col6\" >0.005436</td>\n",
              "      <td id=\"T_da436_row4_col7\" class=\"data row4 col7\" >0.263407</td>\n",
              "      <td id=\"T_da436_row4_col8\" class=\"data row4 col8\" >0.907639</td>\n",
              "      <td id=\"T_da436_row4_col9\" class=\"data row4 col9\" >0.089217</td>\n",
              "      <td id=\"T_da436_row4_col10\" class=\"data row4 col10\" >0.245783</td>\n",
              "      <td id=\"T_da436_row4_col11\" class=\"data row4 col11\" >-0.036138</td>\n",
              "      <td id=\"T_da436_row4_col12\" class=\"data row4 col12\" >0.557997</td>\n",
              "    </tr>\n",
              "    <tr>\n",
              "      <th id=\"T_da436_level0_row5\" class=\"row_heading level0 row5\" >instrumentalness</th>\n",
              "      <td id=\"T_da436_row5_col0\" class=\"data row5 col0\" >0.418303</td>\n",
              "      <td id=\"T_da436_row5_col1\" class=\"data row5 col1\" >0.802812</td>\n",
              "      <td id=\"T_da436_row5_col2\" class=\"data row5 col2\" >-0.616671</td>\n",
              "      <td id=\"T_da436_row5_col3\" class=\"data row5 col3\" >0.289232</td>\n",
              "      <td id=\"T_da436_row5_col4\" class=\"data row5 col4\" >-0.803711</td>\n",
              "      <td id=\"T_da436_row5_col5\" class=\"data row5 col5\" >1.000000</td>\n",
              "      <td id=\"T_da436_row5_col6\" class=\"data row5 col6\" >-0.018490</td>\n",
              "      <td id=\"T_da436_row5_col7\" class=\"data row5 col7\" >-0.189212</td>\n",
              "      <td id=\"T_da436_row5_col8\" class=\"data row5 col8\" >-0.871203</td>\n",
              "      <td id=\"T_da436_row5_col9\" class=\"data row5 col9\" >-0.151969</td>\n",
              "      <td id=\"T_da436_row5_col10\" class=\"data row5 col10\" >-0.226062</td>\n",
              "      <td id=\"T_da436_row5_col11\" class=\"data row5 col11\" >-0.057395</td>\n",
              "      <td id=\"T_da436_row5_col12\" class=\"data row5 col12\" >-0.584943</td>\n",
              "    </tr>\n",
              "    <tr>\n",
              "      <th id=\"T_da436_level0_row6\" class=\"row_heading level0 row6\" >key</th>\n",
              "      <td id=\"T_da436_row6_col0\" class=\"data row6 col0\" >0.063237</td>\n",
              "      <td id=\"T_da436_row6_col1\" class=\"data row6 col1\" >0.074325</td>\n",
              "      <td id=\"T_da436_row6_col2\" class=\"data row6 col2\" >0.110225</td>\n",
              "      <td id=\"T_da436_row6_col3\" class=\"data row6 col3\" >-0.092625</td>\n",
              "      <td id=\"T_da436_row6_col4\" class=\"data row6 col4\" >0.005436</td>\n",
              "      <td id=\"T_da436_row6_col5\" class=\"data row6 col5\" >-0.018490</td>\n",
              "      <td id=\"T_da436_row6_col6\" class=\"data row6 col6\" >1.000000</td>\n",
              "      <td id=\"T_da436_row6_col7\" class=\"data row6 col7\" >0.028660</td>\n",
              "      <td id=\"T_da436_row6_col8\" class=\"data row6 col8\" >0.010885</td>\n",
              "      <td id=\"T_da436_row6_col9\" class=\"data row6 col9\" >0.123567</td>\n",
              "      <td id=\"T_da436_row6_col10\" class=\"data row6 col10\" >-0.097113</td>\n",
              "      <td id=\"T_da436_row6_col11\" class=\"data row6 col11\" >-0.213585</td>\n",
              "      <td id=\"T_da436_row6_col12\" class=\"data row6 col12\" >0.014603</td>\n",
              "    </tr>\n",
              "    <tr>\n",
              "      <th id=\"T_da436_level0_row7\" class=\"row_heading level0 row7\" >liveness</th>\n",
              "      <td id=\"T_da436_row7_col0\" class=\"data row7 col0\" >-0.070643</td>\n",
              "      <td id=\"T_da436_row7_col1\" class=\"data row7 col1\" >-0.217366</td>\n",
              "      <td id=\"T_da436_row7_col2\" class=\"data row7 col2\" >0.070571</td>\n",
              "      <td id=\"T_da436_row7_col3\" class=\"data row7 col3\" >-0.148772</td>\n",
              "      <td id=\"T_da436_row7_col4\" class=\"data row7 col4\" >0.263407</td>\n",
              "      <td id=\"T_da436_row7_col5\" class=\"data row7 col5\" >-0.189212</td>\n",
              "      <td id=\"T_da436_row7_col6\" class=\"data row7 col6\" >0.028660</td>\n",
              "      <td id=\"T_da436_row7_col7\" class=\"data row7 col7\" >1.000000</td>\n",
              "      <td id=\"T_da436_row7_col8\" class=\"data row7 col8\" >0.217215</td>\n",
              "      <td id=\"T_da436_row7_col9\" class=\"data row7 col9\" >0.072116</td>\n",
              "      <td id=\"T_da436_row7_col10\" class=\"data row7 col10\" >0.056367</td>\n",
              "      <td id=\"T_da436_row7_col11\" class=\"data row7 col11\" >-0.041031</td>\n",
              "      <td id=\"T_da436_row7_col12\" class=\"data row7 col12\" >0.192959</td>\n",
              "    </tr>\n",
              "    <tr>\n",
              "      <th id=\"T_da436_level0_row8\" class=\"row_heading level0 row8\" >loudness</th>\n",
              "      <td id=\"T_da436_row8_col0\" class=\"data row8 col0\" >-0.319662</td>\n",
              "      <td id=\"T_da436_row8_col1\" class=\"data row8 col1\" >-0.831313</td>\n",
              "      <td id=\"T_da436_row8_col2\" class=\"data row8 col2\" >0.564384</td>\n",
              "      <td id=\"T_da436_row8_col3\" class=\"data row8 col3\" >-0.204338</td>\n",
              "      <td id=\"T_da436_row8_col4\" class=\"data row8 col4\" >0.907639</td>\n",
              "      <td id=\"T_da436_row8_col5\" class=\"data row8 col5\" >-0.871203</td>\n",
              "      <td id=\"T_da436_row8_col6\" class=\"data row8 col6\" >0.010885</td>\n",
              "      <td id=\"T_da436_row8_col7\" class=\"data row8 col7\" >0.217215</td>\n",
              "      <td id=\"T_da436_row8_col8\" class=\"data row8 col8\" >1.000000</td>\n",
              "      <td id=\"T_da436_row8_col9\" class=\"data row8 col9\" >0.124465</td>\n",
              "      <td id=\"T_da436_row8_col10\" class=\"data row8 col10\" >0.227803</td>\n",
              "      <td id=\"T_da436_row8_col11\" class=\"data row8 col11\" >-0.002777</td>\n",
              "      <td id=\"T_da436_row8_col12\" class=\"data row8 col12\" >0.527576</td>\n",
              "    </tr>\n",
              "    <tr>\n",
              "      <th id=\"T_da436_level0_row9\" class=\"row_heading level0 row9\" >speechiness</th>\n",
              "      <td id=\"T_da436_row9_col0\" class=\"data row9 col0\" >-0.147972</td>\n",
              "      <td id=\"T_da436_row9_col1\" class=\"data row9 col1\" >-0.054851</td>\n",
              "      <td id=\"T_da436_row9_col2\" class=\"data row9 col2\" >0.227406</td>\n",
              "      <td id=\"T_da436_row9_col3\" class=\"data row9 col3\" >-0.122419</td>\n",
              "      <td id=\"T_da436_row9_col4\" class=\"data row9 col4\" >0.089217</td>\n",
              "      <td id=\"T_da436_row9_col5\" class=\"data row9 col5\" >-0.151969</td>\n",
              "      <td id=\"T_da436_row9_col6\" class=\"data row9 col6\" >0.123567</td>\n",
              "      <td id=\"T_da436_row9_col7\" class=\"data row9 col7\" >0.072116</td>\n",
              "      <td id=\"T_da436_row9_col8\" class=\"data row9 col8\" >0.124465</td>\n",
              "      <td id=\"T_da436_row9_col9\" class=\"data row9 col9\" >1.000000</td>\n",
              "      <td id=\"T_da436_row9_col10\" class=\"data row9 col10\" >-0.022887</td>\n",
              "      <td id=\"T_da436_row9_col11\" class=\"data row9 col11\" >-0.136678</td>\n",
              "      <td id=\"T_da436_row9_col12\" class=\"data row9 col12\" >-0.049978</td>\n",
              "    </tr>\n",
              "    <tr>\n",
              "      <th id=\"T_da436_level0_row10\" class=\"row_heading level0 row10\" >tempo</th>\n",
              "      <td id=\"T_da436_row10_col0\" class=\"data row10 col0\" >-0.146173</td>\n",
              "      <td id=\"T_da436_row10_col1\" class=\"data row10 col1\" >-0.214211</td>\n",
              "      <td id=\"T_da436_row10_col2\" class=\"data row10 col2\" >-0.038844</td>\n",
              "      <td id=\"T_da436_row10_col3\" class=\"data row10 col3\" >0.037738</td>\n",
              "      <td id=\"T_da436_row10_col4\" class=\"data row10 col4\" >0.245783</td>\n",
              "      <td id=\"T_da436_row10_col5\" class=\"data row10 col5\" >-0.226062</td>\n",
              "      <td id=\"T_da436_row10_col6\" class=\"data row10 col6\" >-0.097113</td>\n",
              "      <td id=\"T_da436_row10_col7\" class=\"data row10 col7\" >0.056367</td>\n",
              "      <td id=\"T_da436_row10_col8\" class=\"data row10 col8\" >0.227803</td>\n",
              "      <td id=\"T_da436_row10_col9\" class=\"data row10 col9\" >-0.022887</td>\n",
              "      <td id=\"T_da436_row10_col10\" class=\"data row10 col10\" >1.000000</td>\n",
              "      <td id=\"T_da436_row10_col11\" class=\"data row10 col11\" >0.061389</td>\n",
              "      <td id=\"T_da436_row10_col12\" class=\"data row10 col12\" >0.111193</td>\n",
              "    </tr>\n",
              "    <tr>\n",
              "      <th id=\"T_da436_level0_row11\" class=\"row_heading level0 row11\" >mode</th>\n",
              "      <td id=\"T_da436_row11_col0\" class=\"data row11 col0\" >-0.130503</td>\n",
              "      <td id=\"T_da436_row11_col1\" class=\"data row11 col1\" >0.021548</td>\n",
              "      <td id=\"T_da436_row11_col2\" class=\"data row11 col2\" >-0.132745</td>\n",
              "      <td id=\"T_da436_row11_col3\" class=\"data row11 col3\" >0.036440</td>\n",
              "      <td id=\"T_da436_row11_col4\" class=\"data row11 col4\" >-0.036138</td>\n",
              "      <td id=\"T_da436_row11_col5\" class=\"data row11 col5\" >-0.057395</td>\n",
              "      <td id=\"T_da436_row11_col6\" class=\"data row11 col6\" >-0.213585</td>\n",
              "      <td id=\"T_da436_row11_col7\" class=\"data row11 col7\" >-0.041031</td>\n",
              "      <td id=\"T_da436_row11_col8\" class=\"data row11 col8\" >-0.002777</td>\n",
              "      <td id=\"T_da436_row11_col9\" class=\"data row11 col9\" >-0.136678</td>\n",
              "      <td id=\"T_da436_row11_col10\" class=\"data row11 col10\" >0.061389</td>\n",
              "      <td id=\"T_da436_row11_col11\" class=\"data row11 col11\" >1.000000</td>\n",
              "      <td id=\"T_da436_row11_col12\" class=\"data row11 col12\" >0.131118</td>\n",
              "    </tr>\n",
              "    <tr>\n",
              "      <th id=\"T_da436_level0_row12\" class=\"row_heading level0 row12\" >valence</th>\n",
              "      <td id=\"T_da436_row12_col0\" class=\"data row12 col0\" >-0.200154</td>\n",
              "      <td id=\"T_da436_row12_col1\" class=\"data row12 col1\" >-0.468351</td>\n",
              "      <td id=\"T_da436_row12_col2\" class=\"data row12 col2\" >0.487837</td>\n",
              "      <td id=\"T_da436_row12_col3\" class=\"data row12 col3\" >-0.343836</td>\n",
              "      <td id=\"T_da436_row12_col4\" class=\"data row12 col4\" >0.557997</td>\n",
              "      <td id=\"T_da436_row12_col5\" class=\"data row12 col5\" >-0.584943</td>\n",
              "      <td id=\"T_da436_row12_col6\" class=\"data row12 col6\" >0.014603</td>\n",
              "      <td id=\"T_da436_row12_col7\" class=\"data row12 col7\" >0.192959</td>\n",
              "      <td id=\"T_da436_row12_col8\" class=\"data row12 col8\" >0.527576</td>\n",
              "      <td id=\"T_da436_row12_col9\" class=\"data row12 col9\" >-0.049978</td>\n",
              "      <td id=\"T_da436_row12_col10\" class=\"data row12 col10\" >0.111193</td>\n",
              "      <td id=\"T_da436_row12_col11\" class=\"data row12 col11\" >0.131118</td>\n",
              "      <td id=\"T_da436_row12_col12\" class=\"data row12 col12\" >1.000000</td>\n",
              "    </tr>\n",
              "  </tbody>\n",
              "</table>\n"
            ]
          },
          "metadata": {},
          "execution_count": 34
        }
      ]
    },
    {
      "cell_type": "markdown",
      "source": [
        "##### Split your data into two groups p and q"
      ],
      "metadata": {
        "id": "yIyGmn6AK_MQ"
      }
    },
    {
      "cell_type": "code",
      "source": [
        "X_beak = data_scaled[[\"duration_ms\",\"tempo\",\"loudness\"]]\n",
        "X_body = data_scaled[[\"danceability\",\"acousticness\", \"liveness\"]]"
      ],
      "metadata": {
        "id": "BP23DikuwV15"
      },
      "execution_count": null,
      "outputs": []
    },
    {
      "cell_type": "markdown",
      "source": [
        "##### How did you choose your two groups?"
      ],
      "metadata": {
        "id": "XfQA05BpSqAp"
      }
    },
    {
      "cell_type": "code",
      "source": [
        "#We have chosen mesured variables for the first group (X_beak) and variables felt for the second group (X_body)"
      ],
      "metadata": {
        "id": "LaY2Tl4Fv1mU"
      },
      "execution_count": null,
      "outputs": []
    },
    {
      "cell_type": "markdown",
      "source": [],
      "metadata": {
        "id": "kycWlA1SSuc7"
      }
    },
    {
      "cell_type": "markdown",
      "source": [
        "### Apply CCA\n",
        "\n",
        "CCA with scikit-learn uses a very similar process to other preprocessing functions that come with scikit-learn. We instantiate a CCA object, find the  components (linear combinations of the variables) using the fit method, then apply the dimensionality reduction by calling transform().\n",
        "\n",
        "We can also specify how many components we want to keep when creating the CCA object."
      ],
      "metadata": {
        "id": "7pcAD6c6NV6P"
      }
    },
    {
      "cell_type": "markdown",
      "source": [
        "Check the scikit-learn documentation for CCA. Do you need to use the scaled or unscaled data to apply CCA?\n",
        "\n"
      ],
      "metadata": {
        "id": "37xi_b3xLj56"
      }
    },
    {
      "cell_type": "markdown",
      "source": [],
      "metadata": {
        "id": "YaTi6tP8NVXA"
      }
    },
    {
      "cell_type": "markdown",
      "source": [
        "##### Apply CCA"
      ],
      "metadata": {
        "id": "Gg-dRL7TPolS"
      }
    },
    {
      "cell_type": "code",
      "source": [
        "from sklearn.cross_decomposition import CCA\n",
        "\n",
        "cca = CCA(n_components=2, scale=False)\n",
        "cca.fit(X_beak, X_body)\n",
        "\n",
        "U_, V_ = cca.transform(X_beak, X_body)"
      ],
      "metadata": {
        "id": "qBSdOeZqLm2I"
      },
      "execution_count": null,
      "outputs": []
    },
    {
      "cell_type": "markdown",
      "source": [
        "##### Print the first two components"
      ],
      "metadata": {
        "id": "IbUX-Ya1SaDM"
      }
    },
    {
      "cell_type": "code",
      "source": [
        "print(U_.shape)\n",
        "print(V_.shape)\n",
        "data_cca = pd.DataFrame({\"U_1\": U_[:,0], \"U_2\": U_[:,1],\n",
        "                         \"V_1\": V_[:,0], \"V_2\": V_[:,1]})"
      ],
      "metadata": {
        "id": "zkgLEoMqLnQe",
        "colab": {
          "base_uri": "https://localhost:8080/"
        },
        "outputId": "7482c495-f6e0-4476-84d0-e6b869f4d5f5"
      },
      "execution_count": null,
      "outputs": [
        {
          "output_type": "stream",
          "name": "stdout",
          "text": [
            "(250, 2)\n",
            "(250, 2)\n"
          ]
        }
      ]
    },
    {
      "cell_type": "markdown",
      "source": [
        "##### Print the correlation matrix between the first two components"
      ],
      "metadata": {
        "id": "0WBji3JxLoKg"
      }
    },
    {
      "cell_type": "code",
      "source": [
        "corr_cca = data_cca.corr()\n",
        "corr_cca.style.background_gradient(cmap='coolwarm')"
      ],
      "metadata": {
        "id": "4iNLaVLdOh7T",
        "colab": {
          "base_uri": "https://localhost:8080/",
          "height": 175
        },
        "outputId": "5538bb3c-3407-4c1c-b65d-42f6951ea320"
      },
      "execution_count": null,
      "outputs": [
        {
          "output_type": "execute_result",
          "data": {
            "text/plain": [
              "<pandas.io.formats.style.Styler at 0x7f278c91cd00>"
            ],
            "text/html": [
              "<style type=\"text/css\">\n",
              "#T_05c91_row0_col0, #T_05c91_row1_col1, #T_05c91_row2_col2, #T_05c91_row3_col3 {\n",
              "  background-color: #b40426;\n",
              "  color: #f1f1f1;\n",
              "}\n",
              "#T_05c91_row0_col1, #T_05c91_row0_col3, #T_05c91_row1_col0, #T_05c91_row1_col2, #T_05c91_row2_col1, #T_05c91_row2_col3, #T_05c91_row3_col0, #T_05c91_row3_col2 {\n",
              "  background-color: #3b4cc0;\n",
              "  color: #f1f1f1;\n",
              "}\n",
              "#T_05c91_row0_col2, #T_05c91_row2_col0 {\n",
              "  background-color: #e46e56;\n",
              "  color: #f1f1f1;\n",
              "}\n",
              "#T_05c91_row1_col3, #T_05c91_row3_col1 {\n",
              "  background-color: #a2c1ff;\n",
              "  color: #000000;\n",
              "}\n",
              "</style>\n",
              "<table id=\"T_05c91\" class=\"dataframe\">\n",
              "  <thead>\n",
              "    <tr>\n",
              "      <th class=\"blank level0\" >&nbsp;</th>\n",
              "      <th id=\"T_05c91_level0_col0\" class=\"col_heading level0 col0\" >U_1</th>\n",
              "      <th id=\"T_05c91_level0_col1\" class=\"col_heading level0 col1\" >U_2</th>\n",
              "      <th id=\"T_05c91_level0_col2\" class=\"col_heading level0 col2\" >V_1</th>\n",
              "      <th id=\"T_05c91_level0_col3\" class=\"col_heading level0 col3\" >V_2</th>\n",
              "    </tr>\n",
              "  </thead>\n",
              "  <tbody>\n",
              "    <tr>\n",
              "      <th id=\"T_05c91_level0_row0\" class=\"row_heading level0 row0\" >U_1</th>\n",
              "      <td id=\"T_05c91_row0_col0\" class=\"data row0 col0\" >1.000000</td>\n",
              "      <td id=\"T_05c91_row0_col1\" class=\"data row0 col1\" >0.000000</td>\n",
              "      <td id=\"T_05c91_row0_col2\" class=\"data row0 col2\" >0.846218</td>\n",
              "      <td id=\"T_05c91_row0_col3\" class=\"data row0 col3\" >0.000000</td>\n",
              "    </tr>\n",
              "    <tr>\n",
              "      <th id=\"T_05c91_level0_row1\" class=\"row_heading level0 row1\" >U_2</th>\n",
              "      <td id=\"T_05c91_row1_col0\" class=\"data row1 col0\" >0.000000</td>\n",
              "      <td id=\"T_05c91_row1_col1\" class=\"data row1 col1\" >1.000000</td>\n",
              "      <td id=\"T_05c91_row1_col2\" class=\"data row1 col2\" >0.000090</td>\n",
              "      <td id=\"T_05c91_row1_col3\" class=\"data row1 col3\" >0.311324</td>\n",
              "    </tr>\n",
              "    <tr>\n",
              "      <th id=\"T_05c91_level0_row2\" class=\"row_heading level0 row2\" >V_1</th>\n",
              "      <td id=\"T_05c91_row2_col0\" class=\"data row2 col0\" >0.846218</td>\n",
              "      <td id=\"T_05c91_row2_col1\" class=\"data row2 col1\" >0.000090</td>\n",
              "      <td id=\"T_05c91_row2_col2\" class=\"data row2 col2\" >1.000000</td>\n",
              "      <td id=\"T_05c91_row2_col3\" class=\"data row2 col3\" >0.000000</td>\n",
              "    </tr>\n",
              "    <tr>\n",
              "      <th id=\"T_05c91_level0_row3\" class=\"row_heading level0 row3\" >V_2</th>\n",
              "      <td id=\"T_05c91_row3_col0\" class=\"data row3 col0\" >0.000000</td>\n",
              "      <td id=\"T_05c91_row3_col1\" class=\"data row3 col1\" >0.311324</td>\n",
              "      <td id=\"T_05c91_row3_col2\" class=\"data row3 col2\" >0.000000</td>\n",
              "      <td id=\"T_05c91_row3_col3\" class=\"data row3 col3\" >1.000000</td>\n",
              "    </tr>\n",
              "  </tbody>\n",
              "</table>\n"
            ]
          },
          "metadata": {},
          "execution_count": 48
        }
      ]
    },
    {
      "cell_type": "markdown",
      "source": [
        "##### What can you conclude?"
      ],
      "metadata": {
        "id": "xGZrj19SOinb"
      }
    },
    {
      "cell_type": "code",
      "source": [
        "cca.coef_"
      ],
      "metadata": {
        "colab": {
          "base_uri": "https://localhost:8080/"
        },
        "id": "8_JtNR2sypFE",
        "outputId": "56e94aa7-4680-4e4a-9f8a-c5abfff71fb3"
      },
      "execution_count": null,
      "outputs": [
        {
          "output_type": "stream",
          "name": "stderr",
          "text": [
            "/usr/local/lib/python3.9/dist-packages/sklearn/cross_decomposition/_pls.py:503: FutureWarning: The attribute `coef_` will be transposed in version 1.3 to be consistent with other linear models in scikit-learn. Currently, `coef_` has a shape of (n_features, n_targets) and in the future it will have a shape of (n_targets, n_features).\n",
            "  warnings.warn(\n"
          ]
        },
        {
          "output_type": "execute_result",
          "data": {
            "text/plain": [
              "array([[-0.74630431, -0.13509791, -0.20904451],\n",
              "       [-0.61622202, -0.1634346 , -0.16916263],\n",
              "       [ 0.53018117, -0.87655489,  0.21308097]])"
            ]
          },
          "metadata": {},
          "execution_count": 49
        }
      ]
    },
    {
      "cell_type": "markdown",
      "source": [
        "U1, U2 are not coorelated and V1 , V2 not coorelated,\n",
        " U1,V1 are coorelated In general the first couple has a stronger correlation than the second, which is what we have here."
      ],
      "metadata": {
        "id": "yfBxyH2ZOt-S"
      }
    },
    {
      "cell_type": "markdown",
      "source": [
        "### Results visualization and interpretation"
      ],
      "metadata": {
        "id": "-NqYbPUGOuw8"
      }
    },
    {
      "cell_type": "markdown",
      "source": [
        "#### Variable representation"
      ],
      "metadata": {
        "id": "d0UK2piZQyGE"
      }
    },
    {
      "cell_type": "markdown",
      "source": [
        "##### Compute the correlation between the components and the variables\n",
        "\n",
        "[*aide: utiliser les matrices centrées-réduites*]"
      ],
      "metadata": {
        "id": "Pn9WxgzEOuzp"
      }
    },
    {
      "cell_type": "code",
      "source": [
        "cc_var = pd.concat((data_cca, data_scaled), axis=1)\n",
        "\n",
        "corr_cc_var = cc_var.corr(method=\"pearson\")\n",
        "corr_cc_var.style.background_gradient(cmap='coolwarm')"
      ],
      "metadata": {
        "id": "GEtx_RR-OtN6",
        "colab": {
          "base_uri": "https://localhost:8080/",
          "height": 583
        },
        "outputId": "2df87882-696b-4bc4-8575-94547b57f800"
      },
      "execution_count": null,
      "outputs": [
        {
          "output_type": "execute_result",
          "data": {
            "text/plain": [
              "<pandas.io.formats.style.Styler at 0x7f275300f040>"
            ],
            "text/html": [
              "<style type=\"text/css\">\n",
              "#T_37ccc_row0_col0, #T_37ccc_row0_col12, #T_37ccc_row1_col1, #T_37ccc_row2_col2, #T_37ccc_row3_col3, #T_37ccc_row4_col4, #T_37ccc_row5_col5, #T_37ccc_row6_col6, #T_37ccc_row7_col7, #T_37ccc_row8_col8, #T_37ccc_row9_col9, #T_37ccc_row10_col10, #T_37ccc_row11_col11, #T_37ccc_row12_col0, #T_37ccc_row12_col12, #T_37ccc_row13_col13, #T_37ccc_row14_col14, #T_37ccc_row15_col15, #T_37ccc_row16_col16 {\n",
              "  background-color: #b40426;\n",
              "  color: #f1f1f1;\n",
              "}\n",
              "#T_37ccc_row0_col1, #T_37ccc_row2_col1, #T_37ccc_row12_col15 {\n",
              "  background-color: #7295f4;\n",
              "  color: #f1f1f1;\n",
              "}\n",
              "#T_37ccc_row0_col2, #T_37ccc_row8_col2 {\n",
              "  background-color: #cf453c;\n",
              "  color: #f1f1f1;\n",
              "}\n",
              "#T_37ccc_row0_col3, #T_37ccc_row2_col3 {\n",
              "  background-color: #c1d4f4;\n",
              "  color: #000000;\n",
              "}\n",
              "#T_37ccc_row0_col4, #T_37ccc_row5_col14 {\n",
              "  background-color: #3d50c3;\n",
              "  color: #f1f1f1;\n",
              "}\n",
              "#T_37ccc_row0_col5, #T_37ccc_row9_col2, #T_37ccc_row12_col5, #T_37ccc_row15_col13 {\n",
              "  background-color: #516ddb;\n",
              "  color: #f1f1f1;\n",
              "}\n",
              "#T_37ccc_row0_col6 {\n",
              "  background-color: #f4987a;\n",
              "  color: #000000;\n",
              "}\n",
              "#T_37ccc_row0_col7 {\n",
              "  background-color: #4961d2;\n",
              "  color: #f1f1f1;\n",
              "}\n",
              "#T_37ccc_row0_col8, #T_37ccc_row8_col0, #T_37ccc_row8_col12, #T_37ccc_row12_col8 {\n",
              "  background-color: #c53334;\n",
              "  color: #f1f1f1;\n",
              "}\n",
              "#T_37ccc_row0_col9, #T_37ccc_row2_col4, #T_37ccc_row2_col5, #T_37ccc_row3_col6, #T_37ccc_row3_col13, #T_37ccc_row5_col2, #T_37ccc_row5_col8, #T_37ccc_row5_col11, #T_37ccc_row6_col1, #T_37ccc_row6_col3, #T_37ccc_row9_col0, #T_37ccc_row9_col12, #T_37ccc_row9_col14, #T_37ccc_row9_col16, #T_37ccc_row10_col15, #T_37ccc_row12_col4, #T_37ccc_row12_col9, #T_37ccc_row15_col10, #T_37ccc_row16_col7 {\n",
              "  background-color: #3b4cc0;\n",
              "  color: #f1f1f1;\n",
              "}\n",
              "#T_37ccc_row0_col10, #T_37ccc_row5_col15 {\n",
              "  background-color: #799cf8;\n",
              "  color: #f1f1f1;\n",
              "}\n",
              "#T_37ccc_row0_col11 {\n",
              "  background-color: #b3cdfb;\n",
              "  color: #000000;\n",
              "}\n",
              "#T_37ccc_row0_col13, #T_37ccc_row3_col15, #T_37ccc_row4_col12, #T_37ccc_row11_col3 {\n",
              "  background-color: #9dbdff;\n",
              "  color: #000000;\n",
              "}\n",
              "#T_37ccc_row0_col14, #T_37ccc_row7_col8 {\n",
              "  background-color: #b1cbfc;\n",
              "  color: #000000;\n",
              "}\n",
              "#T_37ccc_row0_col15, #T_37ccc_row14_col13 {\n",
              "  background-color: #7093f3;\n",
              "  color: #f1f1f1;\n",
              "}\n",
              "#T_37ccc_row0_col16 {\n",
              "  background-color: #f7a889;\n",
              "  color: #000000;\n",
              "}\n",
              "#T_37ccc_row1_col0, #T_37ccc_row3_col0, #T_37ccc_row10_col8, #T_37ccc_row13_col5 {\n",
              "  background-color: #d4dbe6;\n",
              "  color: #000000;\n",
              "}\n",
              "#T_37ccc_row1_col2, #T_37ccc_row3_col2, #T_37ccc_row5_col4 {\n",
              "  background-color: #dbdcde;\n",
              "  color: #000000;\n",
              "}\n",
              "#T_37ccc_row1_col3 {\n",
              "  background-color: #f1cdba;\n",
              "  color: #000000;\n",
              "}\n",
              "#T_37ccc_row1_col4, #T_37ccc_row2_col15, #T_37ccc_row14_col4 {\n",
              "  background-color: #6485ec;\n",
              "  color: #f1f1f1;\n",
              "}\n",
              "#T_37ccc_row1_col5, #T_37ccc_row15_col0, #T_37ccc_row15_col12 {\n",
              "  background-color: #d3dbe7;\n",
              "  color: #000000;\n",
              "}\n",
              "#T_37ccc_row1_col6, #T_37ccc_row1_col16, #T_37ccc_row13_col10 {\n",
              "  background-color: #97b8ff;\n",
              "  color: #000000;\n",
              "}\n",
              "#T_37ccc_row1_col7, #T_37ccc_row2_col6 {\n",
              "  background-color: #eb7d62;\n",
              "  color: #f1f1f1;\n",
              "}\n",
              "#T_37ccc_row1_col8, #T_37ccc_row1_col12 {\n",
              "  background-color: #dddcdc;\n",
              "  color: #000000;\n",
              "}\n",
              "#T_37ccc_row1_col9, #T_37ccc_row9_col7, #T_37ccc_row10_col6, #T_37ccc_row10_col12, #T_37ccc_row15_col2 {\n",
              "  background-color: #d5dbe5;\n",
              "  color: #000000;\n",
              "}\n",
              "#T_37ccc_row1_col10, #T_37ccc_row4_col13, #T_37ccc_row4_col15, #T_37ccc_row6_col15, #T_37ccc_row10_col1 {\n",
              "  background-color: #4f69d9;\n",
              "  color: #f1f1f1;\n",
              "}\n",
              "#T_37ccc_row1_col11, #T_37ccc_row13_col4 {\n",
              "  background-color: #6384eb;\n",
              "  color: #f1f1f1;\n",
              "}\n",
              "#T_37ccc_row1_col13 {\n",
              "  background-color: #5d7ce6;\n",
              "  color: #f1f1f1;\n",
              "}\n",
              "#T_37ccc_row1_col14 {\n",
              "  background-color: #f59c7d;\n",
              "  color: #000000;\n",
              "}\n",
              "#T_37ccc_row1_col15, #T_37ccc_row12_col1 {\n",
              "  background-color: #86a9fc;\n",
              "  color: #f1f1f1;\n",
              "}\n",
              "#T_37ccc_row2_col0, #T_37ccc_row2_col8, #T_37ccc_row12_col2 {\n",
              "  background-color: #d0473d;\n",
              "  color: #f1f1f1;\n",
              "}\n",
              "#T_37ccc_row2_col7 {\n",
              "  background-color: #536edd;\n",
              "  color: #f1f1f1;\n",
              "}\n",
              "#T_37ccc_row2_col9, #T_37ccc_row3_col11, #T_37ccc_row5_col0, #T_37ccc_row6_col7 {\n",
              "  background-color: #4257c9;\n",
              "  color: #f1f1f1;\n",
              "}\n",
              "#T_37ccc_row2_col10, #T_37ccc_row8_col15, #T_37ccc_row11_col7, #T_37ccc_row15_col4, #T_37ccc_row15_col11, #T_37ccc_row16_col13 {\n",
              "  background-color: #688aef;\n",
              "  color: #f1f1f1;\n",
              "}\n",
              "#T_37ccc_row2_col11, #T_37ccc_row3_col5, #T_37ccc_row8_col11 {\n",
              "  background-color: #bfd3f6;\n",
              "  color: #000000;\n",
              "}\n",
              "#T_37ccc_row2_col12 {\n",
              "  background-color: #d1493f;\n",
              "  color: #f1f1f1;\n",
              "}\n",
              "#T_37ccc_row2_col13 {\n",
              "  background-color: #94b6ff;\n",
              "  color: #000000;\n",
              "}\n",
              "#T_37ccc_row2_col14, #T_37ccc_row15_col6 {\n",
              "  background-color: #a7c5fe;\n",
              "  color: #000000;\n",
              "}\n",
              "#T_37ccc_row2_col16, #T_37ccc_row16_col6 {\n",
              "  background-color: #f7ad90;\n",
              "  color: #000000;\n",
              "}\n",
              "#T_37ccc_row3_col1 {\n",
              "  background-color: #cad8ef;\n",
              "  color: #000000;\n",
              "}\n",
              "#T_37ccc_row3_col4 {\n",
              "  background-color: #7a9df8;\n",
              "  color: #f1f1f1;\n",
              "}\n",
              "#T_37ccc_row3_col7 {\n",
              "  background-color: #c9d7f0;\n",
              "  color: #000000;\n",
              "}\n",
              "#T_37ccc_row3_col8 {\n",
              "  background-color: #e4d9d2;\n",
              "  color: #000000;\n",
              "}\n",
              "#T_37ccc_row3_col9 {\n",
              "  background-color: #dcdddd;\n",
              "  color: #000000;\n",
              "}\n",
              "#T_37ccc_row3_col10 {\n",
              "  background-color: #3e51c5;\n",
              "  color: #f1f1f1;\n",
              "}\n",
              "#T_37ccc_row3_col12, #T_37ccc_row10_col0, #T_37ccc_row10_col2 {\n",
              "  background-color: #d7dce3;\n",
              "  color: #000000;\n",
              "}\n",
              "#T_37ccc_row3_col14, #T_37ccc_row7_col12, #T_37ccc_row12_col11 {\n",
              "  background-color: #b2ccfb;\n",
              "  color: #000000;\n",
              "}\n",
              "#T_37ccc_row3_col16 {\n",
              "  background-color: #89acfd;\n",
              "  color: #000000;\n",
              "}\n",
              "#T_37ccc_row4_col0 {\n",
              "  background-color: #9fbfff;\n",
              "  color: #000000;\n",
              "}\n",
              "#T_37ccc_row4_col1, #T_37ccc_row7_col11, #T_37ccc_row16_col1 {\n",
              "  background-color: #4b64d5;\n",
              "  color: #f1f1f1;\n",
              "}\n",
              "#T_37ccc_row4_col2 {\n",
              "  background-color: #a9c6fd;\n",
              "  color: #000000;\n",
              "}\n",
              "#T_37ccc_row4_col3, #T_37ccc_row12_col14 {\n",
              "  background-color: #b6cefa;\n",
              "  color: #000000;\n",
              "}\n",
              "#T_37ccc_row4_col5 {\n",
              "  background-color: #f7b99e;\n",
              "  color: #000000;\n",
              "}\n",
              "#T_37ccc_row4_col6 {\n",
              "  background-color: #9ebeff;\n",
              "  color: #000000;\n",
              "}\n",
              "#T_37ccc_row4_col7, #T_37ccc_row4_col10, #T_37ccc_row11_col14, #T_37ccc_row14_col15, #T_37ccc_row15_col1 {\n",
              "  background-color: #85a8fc;\n",
              "  color: #f1f1f1;\n",
              "}\n",
              "#T_37ccc_row4_col8 {\n",
              "  background-color: #a1c0ff;\n",
              "  color: #000000;\n",
              "}\n",
              "#T_37ccc_row4_col9 {\n",
              "  background-color: #f7b093;\n",
              "  color: #000000;\n",
              "}\n",
              "#T_37ccc_row4_col11 {\n",
              "  background-color: #5f7fe8;\n",
              "  color: #f1f1f1;\n",
              "}\n",
              "#T_37ccc_row4_col14, #T_37ccc_row9_col13, #T_37ccc_row13_col15 {\n",
              "  background-color: #4e68d8;\n",
              "  color: #f1f1f1;\n",
              "}\n",
              "#T_37ccc_row4_col16 {\n",
              "  background-color: #8badfd;\n",
              "  color: #000000;\n",
              "}\n",
              "#T_37ccc_row5_col1 {\n",
              "  background-color: #6180e9;\n",
              "  color: #f1f1f1;\n",
              "}\n",
              "#T_37ccc_row5_col3, #T_37ccc_row10_col3, #T_37ccc_row10_col13, #T_37ccc_row12_col13, #T_37ccc_row16_col3 {\n",
              "  background-color: #9abbff;\n",
              "  color: #000000;\n",
              "}\n",
              "#T_37ccc_row5_col6 {\n",
              "  background-color: #5470de;\n",
              "  color: #f1f1f1;\n",
              "}\n",
              "#T_37ccc_row5_col7 {\n",
              "  background-color: #bed2f6;\n",
              "  color: #000000;\n",
              "}\n",
              "#T_37ccc_row5_col9 {\n",
              "  background-color: #d75445;\n",
              "  color: #f1f1f1;\n",
              "}\n",
              "#T_37ccc_row5_col10, #T_37ccc_row6_col11, #T_37ccc_row8_col1, #T_37ccc_row13_col11, #T_37ccc_row15_col14 {\n",
              "  background-color: #88abfd;\n",
              "  color: #000000;\n",
              "}\n",
              "#T_37ccc_row5_col12, #T_37ccc_row9_col11 {\n",
              "  background-color: #4055c8;\n",
              "  color: #f1f1f1;\n",
              "}\n",
              "#T_37ccc_row5_col13, #T_37ccc_row11_col15 {\n",
              "  background-color: #6788ee;\n",
              "  color: #f1f1f1;\n",
              "}\n",
              "#T_37ccc_row5_col16 {\n",
              "  background-color: #506bda;\n",
              "  color: #f1f1f1;\n",
              "}\n",
              "#T_37ccc_row6_col0 {\n",
              "  background-color: #f18f71;\n",
              "  color: #f1f1f1;\n",
              "}\n",
              "#T_37ccc_row6_col2 {\n",
              "  background-color: #e57058;\n",
              "  color: #f1f1f1;\n",
              "}\n",
              "#T_37ccc_row6_col4 {\n",
              "  background-color: #5b7ae5;\n",
              "  color: #f1f1f1;\n",
              "}\n",
              "#T_37ccc_row6_col5, #T_37ccc_row14_col11 {\n",
              "  background-color: #84a7fc;\n",
              "  color: #f1f1f1;\n",
              "}\n",
              "#T_37ccc_row6_col8, #T_37ccc_row8_col16 {\n",
              "  background-color: #f6a586;\n",
              "  color: #000000;\n",
              "}\n",
              "#T_37ccc_row6_col9 {\n",
              "  background-color: #6687ed;\n",
              "  color: #f1f1f1;\n",
              "}\n",
              "#T_37ccc_row6_col10, #T_37ccc_row13_col3 {\n",
              "  background-color: #93b5fe;\n",
              "  color: #000000;\n",
              "}\n",
              "#T_37ccc_row6_col12 {\n",
              "  background-color: #f29274;\n",
              "  color: #f1f1f1;\n",
              "}\n",
              "#T_37ccc_row6_col13 {\n",
              "  background-color: #b7cff9;\n",
              "  color: #000000;\n",
              "}\n",
              "#T_37ccc_row6_col14, #T_37ccc_row16_col9 {\n",
              "  background-color: #6b8df0;\n",
              "  color: #f1f1f1;\n",
              "}\n",
              "#T_37ccc_row6_col16 {\n",
              "  background-color: #f7b497;\n",
              "  color: #000000;\n",
              "}\n",
              "#T_37ccc_row7_col0 {\n",
              "  background-color: #a5c3fe;\n",
              "  color: #000000;\n",
              "}\n",
              "#T_37ccc_row7_col1 {\n",
              "  background-color: #ef886b;\n",
              "  color: #f1f1f1;\n",
              "}\n",
              "#T_37ccc_row7_col2, #T_37ccc_row10_col16 {\n",
              "  background-color: #b9d0f9;\n",
              "  color: #000000;\n",
              "}\n",
              "#T_37ccc_row7_col3, #T_37ccc_row13_col2 {\n",
              "  background-color: #e8d6cc;\n",
              "  color: #000000;\n",
              "}\n",
              "#T_37ccc_row7_col4, #T_37ccc_row7_col14 {\n",
              "  background-color: #81a4fb;\n",
              "  color: #f1f1f1;\n",
              "}\n",
              "#T_37ccc_row7_col5, #T_37ccc_row11_col0, #T_37ccc_row14_col12 {\n",
              "  background-color: #f0cdbb;\n",
              "  color: #000000;\n",
              "}\n",
              "#T_37ccc_row7_col6 {\n",
              "  background-color: #82a6fb;\n",
              "  color: #f1f1f1;\n",
              "}\n",
              "#T_37ccc_row7_col9 {\n",
              "  background-color: #f4c5ad;\n",
              "  color: #000000;\n",
              "}\n",
              "#T_37ccc_row7_col10 {\n",
              "  background-color: #5977e3;\n",
              "  color: #f1f1f1;\n",
              "}\n",
              "#T_37ccc_row7_col13 {\n",
              "  background-color: #5572df;\n",
              "  color: #f1f1f1;\n",
              "}\n",
              "#T_37ccc_row7_col15 {\n",
              "  background-color: #7da0f9;\n",
              "  color: #f1f1f1;\n",
              "}\n",
              "#T_37ccc_row7_col16 {\n",
              "  background-color: #6a8bef;\n",
              "  color: #f1f1f1;\n",
              "}\n",
              "#T_37ccc_row8_col3 {\n",
              "  background-color: #d8dce2;\n",
              "  color: #000000;\n",
              "}\n",
              "#T_37ccc_row8_col4, #T_37ccc_row9_col8 {\n",
              "  background-color: #4358cb;\n",
              "  color: #f1f1f1;\n",
              "}\n",
              "#T_37ccc_row8_col5 {\n",
              "  background-color: #4c66d6;\n",
              "  color: #f1f1f1;\n",
              "}\n",
              "#T_37ccc_row8_col6 {\n",
              "  background-color: #f7af91;\n",
              "  color: #000000;\n",
              "}\n",
              "#T_37ccc_row8_col7, #T_37ccc_row10_col14, #T_37ccc_row12_col7 {\n",
              "  background-color: #5a78e4;\n",
              "  color: #f1f1f1;\n",
              "}\n",
              "#T_37ccc_row8_col9 {\n",
              "  background-color: #455cce;\n",
              "  color: #f1f1f1;\n",
              "}\n",
              "#T_37ccc_row8_col10, #T_37ccc_row9_col1 {\n",
              "  background-color: #7597f6;\n",
              "  color: #f1f1f1;\n",
              "}\n",
              "#T_37ccc_row8_col13, #T_37ccc_row16_col5 {\n",
              "  background-color: #90b2fe;\n",
              "  color: #000000;\n",
              "}\n",
              "#T_37ccc_row8_col14, #T_37ccc_row11_col5, #T_37ccc_row13_col9, #T_37ccc_row14_col6 {\n",
              "  background-color: #bbd1f8;\n",
              "  color: #000000;\n",
              "}\n",
              "#T_37ccc_row9_col3, #T_37ccc_row14_col16 {\n",
              "  background-color: #ccd9ed;\n",
              "  color: #000000;\n",
              "}\n",
              "#T_37ccc_row9_col4 {\n",
              "  background-color: #ebd3c6;\n",
              "  color: #000000;\n",
              "}\n",
              "#T_37ccc_row9_col5 {\n",
              "  background-color: #d65244;\n",
              "  color: #f1f1f1;\n",
              "}\n",
              "#T_37ccc_row9_col6 {\n",
              "  background-color: #465ecf;\n",
              "  color: #f1f1f1;\n",
              "}\n",
              "#T_37ccc_row9_col10 {\n",
              "  background-color: #6e90f2;\n",
              "  color: #f1f1f1;\n",
              "}\n",
              "#T_37ccc_row9_col15, #T_37ccc_row11_col1 {\n",
              "  background-color: #6282ea;\n",
              "  color: #f1f1f1;\n",
              "}\n",
              "#T_37ccc_row10_col4 {\n",
              "  background-color: #9bbcff;\n",
              "  color: #000000;\n",
              "}\n",
              "#T_37ccc_row10_col5, #T_37ccc_row13_col12, #T_37ccc_row14_col3 {\n",
              "  background-color: #e5d8d1;\n",
              "  color: #000000;\n",
              "}\n",
              "#T_37ccc_row10_col7, #T_37ccc_row12_col10 {\n",
              "  background-color: #7699f6;\n",
              "  color: #f1f1f1;\n",
              "}\n",
              "#T_37ccc_row10_col9 {\n",
              "  background-color: #d2dbe8;\n",
              "  color: #000000;\n",
              "}\n",
              "#T_37ccc_row10_col11, #T_37ccc_row11_col10 {\n",
              "  background-color: #7b9ff9;\n",
              "  color: #f1f1f1;\n",
              "}\n",
              "#T_37ccc_row11_col2 {\n",
              "  background-color: #f5c2aa;\n",
              "  color: #000000;\n",
              "}\n",
              "#T_37ccc_row11_col4, #T_37ccc_row16_col10 {\n",
              "  background-color: #779af7;\n",
              "  color: #f1f1f1;\n",
              "}\n",
              "#T_37ccc_row11_col6 {\n",
              "  background-color: #cedaeb;\n",
              "  color: #000000;\n",
              "}\n",
              "#T_37ccc_row11_col8 {\n",
              "  background-color: #f2cab5;\n",
              "  color: #000000;\n",
              "}\n",
              "#T_37ccc_row11_col9 {\n",
              "  background-color: #b5cdfa;\n",
              "  color: #000000;\n",
              "}\n",
              "#T_37ccc_row11_col12 {\n",
              "  background-color: #efcfbf;\n",
              "  color: #000000;\n",
              "}\n",
              "#T_37ccc_row11_col13 {\n",
              "  background-color: #8caffe;\n",
              "  color: #000000;\n",
              "}\n",
              "#T_37ccc_row11_col16, #T_37ccc_row15_col3 {\n",
              "  background-color: #dadce0;\n",
              "  color: #000000;\n",
              "}\n",
              "#T_37ccc_row12_col3 {\n",
              "  background-color: #c6d6f1;\n",
              "  color: #000000;\n",
              "}\n",
              "#T_37ccc_row12_col6, #T_37ccc_row14_col1 {\n",
              "  background-color: #f59d7e;\n",
              "  color: #000000;\n",
              "}\n",
              "#T_37ccc_row12_col16 {\n",
              "  background-color: #f7ac8e;\n",
              "  color: #000000;\n",
              "}\n",
              "#T_37ccc_row13_col0 {\n",
              "  background-color: #e6d7cf;\n",
              "  color: #000000;\n",
              "}\n",
              "#T_37ccc_row13_col1, #T_37ccc_row14_col10 {\n",
              "  background-color: #5875e1;\n",
              "  color: #f1f1f1;\n",
              "}\n",
              "#T_37ccc_row13_col6 {\n",
              "  background-color: #e7d7ce;\n",
              "  color: #000000;\n",
              "}\n",
              "#T_37ccc_row13_col7, #T_37ccc_row13_col14 {\n",
              "  background-color: #6f92f3;\n",
              "  color: #f1f1f1;\n",
              "}\n",
              "#T_37ccc_row13_col8 {\n",
              "  background-color: #dfdbd9;\n",
              "  color: #000000;\n",
              "}\n",
              "#T_37ccc_row13_col16, #T_37ccc_row16_col11 {\n",
              "  background-color: #abc8fd;\n",
              "  color: #000000;\n",
              "}\n",
              "#T_37ccc_row14_col0 {\n",
              "  background-color: #eed0c0;\n",
              "  color: #000000;\n",
              "}\n",
              "#T_37ccc_row14_col2 {\n",
              "  background-color: #efcebd;\n",
              "  color: #000000;\n",
              "}\n",
              "#T_37ccc_row14_col5 {\n",
              "  background-color: #bcd2f7;\n",
              "  color: #000000;\n",
              "}\n",
              "#T_37ccc_row14_col7, #T_37ccc_row15_col7, #T_37ccc_row16_col15 {\n",
              "  background-color: #98b9ff;\n",
              "  color: #000000;\n",
              "}\n",
              "#T_37ccc_row14_col8 {\n",
              "  background-color: #f1ccb8;\n",
              "  color: #000000;\n",
              "}\n",
              "#T_37ccc_row14_col9 {\n",
              "  background-color: #aec9fc;\n",
              "  color: #000000;\n",
              "}\n",
              "#T_37ccc_row15_col5 {\n",
              "  background-color: #dedcdb;\n",
              "  color: #000000;\n",
              "}\n",
              "#T_37ccc_row15_col8 {\n",
              "  background-color: #cdd9ec;\n",
              "  color: #000000;\n",
              "}\n",
              "#T_37ccc_row15_col9 {\n",
              "  background-color: #cbd8ee;\n",
              "  color: #000000;\n",
              "}\n",
              "#T_37ccc_row15_col16 {\n",
              "  background-color: #cfdaea;\n",
              "  color: #000000;\n",
              "}\n",
              "#T_37ccc_row16_col0, #T_37ccc_row16_col2 {\n",
              "  background-color: #f39778;\n",
              "  color: #000000;\n",
              "}\n",
              "#T_37ccc_row16_col4 {\n",
              "  background-color: #5673e0;\n",
              "  color: #f1f1f1;\n",
              "}\n",
              "#T_37ccc_row16_col8 {\n",
              "  background-color: #f39475;\n",
              "  color: #000000;\n",
              "}\n",
              "#T_37ccc_row16_col12 {\n",
              "  background-color: #f49a7b;\n",
              "  color: #000000;\n",
              "}\n",
              "#T_37ccc_row16_col14 {\n",
              "  background-color: #96b7ff;\n",
              "  color: #000000;\n",
              "}\n",
              "</style>\n",
              "<table id=\"T_37ccc\" class=\"dataframe\">\n",
              "  <thead>\n",
              "    <tr>\n",
              "      <th class=\"blank level0\" >&nbsp;</th>\n",
              "      <th id=\"T_37ccc_level0_col0\" class=\"col_heading level0 col0\" >U_1</th>\n",
              "      <th id=\"T_37ccc_level0_col1\" class=\"col_heading level0 col1\" >U_2</th>\n",
              "      <th id=\"T_37ccc_level0_col2\" class=\"col_heading level0 col2\" >V_1</th>\n",
              "      <th id=\"T_37ccc_level0_col3\" class=\"col_heading level0 col3\" >V_2</th>\n",
              "      <th id=\"T_37ccc_level0_col4\" class=\"col_heading level0 col4\" >artist</th>\n",
              "      <th id=\"T_37ccc_level0_col5\" class=\"col_heading level0 col5\" >acousticness</th>\n",
              "      <th id=\"T_37ccc_level0_col6\" class=\"col_heading level0 col6\" >danceability</th>\n",
              "      <th id=\"T_37ccc_level0_col7\" class=\"col_heading level0 col7\" >duration_ms</th>\n",
              "      <th id=\"T_37ccc_level0_col8\" class=\"col_heading level0 col8\" >energy</th>\n",
              "      <th id=\"T_37ccc_level0_col9\" class=\"col_heading level0 col9\" >instrumentalness</th>\n",
              "      <th id=\"T_37ccc_level0_col10\" class=\"col_heading level0 col10\" >key</th>\n",
              "      <th id=\"T_37ccc_level0_col11\" class=\"col_heading level0 col11\" >liveness</th>\n",
              "      <th id=\"T_37ccc_level0_col12\" class=\"col_heading level0 col12\" >loudness</th>\n",
              "      <th id=\"T_37ccc_level0_col13\" class=\"col_heading level0 col13\" >speechiness</th>\n",
              "      <th id=\"T_37ccc_level0_col14\" class=\"col_heading level0 col14\" >tempo</th>\n",
              "      <th id=\"T_37ccc_level0_col15\" class=\"col_heading level0 col15\" >mode</th>\n",
              "      <th id=\"T_37ccc_level0_col16\" class=\"col_heading level0 col16\" >valence</th>\n",
              "    </tr>\n",
              "  </thead>\n",
              "  <tbody>\n",
              "    <tr>\n",
              "      <th id=\"T_37ccc_level0_row0\" class=\"row_heading level0 row0\" >U_1</th>\n",
              "      <td id=\"T_37ccc_row0_col0\" class=\"data row0 col0\" >1.000000</td>\n",
              "      <td id=\"T_37ccc_row0_col1\" class=\"data row0 col1\" >0.000000</td>\n",
              "      <td id=\"T_37ccc_row0_col2\" class=\"data row0 col2\" >0.846218</td>\n",
              "      <td id=\"T_37ccc_row0_col3\" class=\"data row0 col3\" >0.000000</td>\n",
              "      <td id=\"T_37ccc_row0_col4\" class=\"data row0 col4\" >-0.310055</td>\n",
              "      <td id=\"T_37ccc_row0_col5\" class=\"data row0 col5\" >-0.829614</td>\n",
              "      <td id=\"T_37ccc_row0_col6\" class=\"data row0 col6\" >0.579826</td>\n",
              "      <td id=\"T_37ccc_row0_col7\" class=\"data row0 col7\" >-0.278275</td>\n",
              "      <td id=\"T_37ccc_row0_col8\" class=\"data row0 col8\" >0.905726</td>\n",
              "      <td id=\"T_37ccc_row0_col9\" class=\"data row0 col9\" >-0.876740</td>\n",
              "      <td id=\"T_37ccc_row0_col10\" class=\"data row0 col10\" >0.019134</td>\n",
              "      <td id=\"T_37ccc_row0_col11\" class=\"data row0 col11\" >0.224467</td>\n",
              "      <td id=\"T_37ccc_row0_col12\" class=\"data row0 col12\" >0.997008</td>\n",
              "      <td id=\"T_37ccc_row0_col13\" class=\"data row0 col13\" >0.132220</td>\n",
              "      <td id=\"T_37ccc_row0_col14\" class=\"data row0 col14\" >0.207745</td>\n",
              "      <td id=\"T_37ccc_row0_col15\" class=\"data row0 col15\" >-0.006362</td>\n",
              "      <td id=\"T_37ccc_row0_col16\" class=\"data row0 col16\" >0.544200</td>\n",
              "    </tr>\n",
              "    <tr>\n",
              "      <th id=\"T_37ccc_level0_row1\" class=\"row_heading level0 row1\" >U_2</th>\n",
              "      <td id=\"T_37ccc_row1_col0\" class=\"data row1 col0\" >0.000000</td>\n",
              "      <td id=\"T_37ccc_row1_col1\" class=\"data row1 col1\" >1.000000</td>\n",
              "      <td id=\"T_37ccc_row1_col2\" class=\"data row1 col2\" >0.000090</td>\n",
              "      <td id=\"T_37ccc_row1_col3\" class=\"data row1 col3\" >0.311324</td>\n",
              "      <td id=\"T_37ccc_row1_col4\" class=\"data row1 col4\" >-0.142662</td>\n",
              "      <td id=\"T_37ccc_row1_col5\" class=\"data row1 col5\" >-0.061426</td>\n",
              "      <td id=\"T_37ccc_row1_col6\" class=\"data row1 col6\" >-0.212659</td>\n",
              "      <td id=\"T_37ccc_row1_col7\" class=\"data row1 col7\" >0.748890</td>\n",
              "      <td id=\"T_37ccc_row1_col8\" class=\"data row1 col8\" >0.073708</td>\n",
              "      <td id=\"T_37ccc_row1_col9\" class=\"data row1 col9\" >0.005458</td>\n",
              "      <td id=\"T_37ccc_row1_col10\" class=\"data row1 col10\" >-0.130095</td>\n",
              "      <td id=\"T_37ccc_row1_col11\" class=\"data row1 col11\" >-0.058045</td>\n",
              "      <td id=\"T_37ccc_row1_col12\" class=\"data row1 col12\" >0.067777</td>\n",
              "      <td id=\"T_37ccc_row1_col13\" class=\"data row1 col13\" >-0.096202</td>\n",
              "      <td id=\"T_37ccc_row1_col14\" class=\"data row1 col14\" >0.686895</td>\n",
              "      <td id=\"T_37ccc_row1_col15\" class=\"data row1 col15\" >0.066185</td>\n",
              "      <td id=\"T_37ccc_row1_col16\" class=\"data row1 col16\" >-0.144555</td>\n",
              "    </tr>\n",
              "    <tr>\n",
              "      <th id=\"T_37ccc_level0_row2\" class=\"row_heading level0 row2\" >V_1</th>\n",
              "      <td id=\"T_37ccc_row2_col0\" class=\"data row2 col0\" >0.846218</td>\n",
              "      <td id=\"T_37ccc_row2_col1\" class=\"data row2 col1\" >0.000090</td>\n",
              "      <td id=\"T_37ccc_row2_col2\" class=\"data row2 col2\" >1.000000</td>\n",
              "      <td id=\"T_37ccc_row2_col3\" class=\"data row2 col3\" >0.000000</td>\n",
              "      <td id=\"T_37ccc_row2_col4\" class=\"data row2 col4\" >-0.323289</td>\n",
              "      <td id=\"T_37ccc_row2_col5\" class=\"data row2 col5\" >-0.980379</td>\n",
              "      <td id=\"T_37ccc_row2_col6\" class=\"data row2 col6\" >0.685198</td>\n",
              "      <td id=\"T_37ccc_row2_col7\" class=\"data row2 col7\" >-0.235413</td>\n",
              "      <td id=\"T_37ccc_row2_col8\" class=\"data row2 col8\" >0.851080</td>\n",
              "      <td id=\"T_37ccc_row2_col9\" class=\"data row2 col9\" >-0.829574</td>\n",
              "      <td id=\"T_37ccc_row2_col10\" class=\"data row2 col10\" >-0.036024</td>\n",
              "      <td id=\"T_37ccc_row2_col11\" class=\"data row2 col11\" >0.265259</td>\n",
              "      <td id=\"T_37ccc_row2_col12\" class=\"data row2 col12\" >0.843692</td>\n",
              "      <td id=\"T_37ccc_row2_col13\" class=\"data row2 col13\" >0.102365</td>\n",
              "      <td id=\"T_37ccc_row2_col14\" class=\"data row2 col14\" >0.175859</td>\n",
              "      <td id=\"T_37ccc_row2_col15\" class=\"data row2 col15\" >-0.050841</td>\n",
              "      <td id=\"T_37ccc_row2_col16\" class=\"data row2 col16\" >0.518285</td>\n",
              "    </tr>\n",
              "    <tr>\n",
              "      <th id=\"T_37ccc_level0_row3\" class=\"row_heading level0 row3\" >V_2</th>\n",
              "      <td id=\"T_37ccc_row3_col0\" class=\"data row3 col0\" >0.000000</td>\n",
              "      <td id=\"T_37ccc_row3_col1\" class=\"data row3 col1\" >0.311324</td>\n",
              "      <td id=\"T_37ccc_row3_col2\" class=\"data row3 col2\" >0.000000</td>\n",
              "      <td id=\"T_37ccc_row3_col3\" class=\"data row3 col3\" >1.000000</td>\n",
              "      <td id=\"T_37ccc_row3_col4\" class=\"data row3 col4\" >-0.060717</td>\n",
              "      <td id=\"T_37ccc_row3_col5\" class=\"data row3 col5\" >-0.197021</td>\n",
              "      <td id=\"T_37ccc_row3_col6\" class=\"data row3 col6\" >-0.683278</td>\n",
              "      <td id=\"T_37ccc_row3_col7\" class=\"data row3 col7\" >0.233151</td>\n",
              "      <td id=\"T_37ccc_row3_col8\" class=\"data row3 col8\" >0.125920</td>\n",
              "      <td id=\"T_37ccc_row3_col9\" class=\"data row3 col9\" >0.054602</td>\n",
              "      <td id=\"T_37ccc_row3_col10\" class=\"data row3 col10\" >-0.197949</td>\n",
              "      <td id=\"T_37ccc_row3_col11\" class=\"data row3 col11\" >-0.186521</td>\n",
              "      <td id=\"T_37ccc_row3_col12\" class=\"data row3 col12\" >0.021101</td>\n",
              "      <td id=\"T_37ccc_row3_col13\" class=\"data row3 col13\" >-0.230904</td>\n",
              "      <td id=\"T_37ccc_row3_col14\" class=\"data row3 col14\" >0.213843</td>\n",
              "      <td id=\"T_37ccc_row3_col15\" class=\"data row3 col15\" >0.143591</td>\n",
              "      <td id=\"T_37ccc_row3_col16\" class=\"data row3 col16\" >-0.201229</td>\n",
              "    </tr>\n",
              "    <tr>\n",
              "      <th id=\"T_37ccc_level0_row4\" class=\"row_heading level0 row4\" >artist</th>\n",
              "      <td id=\"T_37ccc_row4_col0\" class=\"data row4 col0\" >-0.310055</td>\n",
              "      <td id=\"T_37ccc_row4_col1\" class=\"data row4 col1\" >-0.142662</td>\n",
              "      <td id=\"T_37ccc_row4_col2\" class=\"data row4 col2\" >-0.323289</td>\n",
              "      <td id=\"T_37ccc_row4_col3\" class=\"data row4 col3\" >-0.060717</td>\n",
              "      <td id=\"T_37ccc_row4_col4\" class=\"data row4 col4\" >1.000000</td>\n",
              "      <td id=\"T_37ccc_row4_col5\" class=\"data row4 col5\" >0.328934</td>\n",
              "      <td id=\"T_37ccc_row4_col6\" class=\"data row4 col6\" >-0.181040</td>\n",
              "      <td id=\"T_37ccc_row4_col7\" class=\"data row4 col7\" >-0.034576</td>\n",
              "      <td id=\"T_37ccc_row4_col8\" class=\"data row4 col8\" >-0.285244</td>\n",
              "      <td id=\"T_37ccc_row4_col9\" class=\"data row4 col9\" >0.418303</td>\n",
              "      <td id=\"T_37ccc_row4_col10\" class=\"data row4 col10\" >0.063237</td>\n",
              "      <td id=\"T_37ccc_row4_col11\" class=\"data row4 col11\" >-0.070643</td>\n",
              "      <td id=\"T_37ccc_row4_col12\" class=\"data row4 col12\" >-0.319662</td>\n",
              "      <td id=\"T_37ccc_row4_col13\" class=\"data row4 col13\" >-0.147972</td>\n",
              "      <td id=\"T_37ccc_row4_col14\" class=\"data row4 col14\" >-0.146173</td>\n",
              "      <td id=\"T_37ccc_row4_col15\" class=\"data row4 col15\" >-0.130503</td>\n",
              "      <td id=\"T_37ccc_row4_col16\" class=\"data row4 col16\" >-0.200154</td>\n",
              "    </tr>\n",
              "    <tr>\n",
              "      <th id=\"T_37ccc_level0_row5\" class=\"row_heading level0 row5\" >acousticness</th>\n",
              "      <td id=\"T_37ccc_row5_col0\" class=\"data row5 col0\" >-0.829614</td>\n",
              "      <td id=\"T_37ccc_row5_col1\" class=\"data row5 col1\" >-0.061426</td>\n",
              "      <td id=\"T_37ccc_row5_col2\" class=\"data row5 col2\" >-0.980379</td>\n",
              "      <td id=\"T_37ccc_row5_col3\" class=\"data row5 col3\" >-0.197021</td>\n",
              "      <td id=\"T_37ccc_row5_col4\" class=\"data row5 col4\" >0.328934</td>\n",
              "      <td id=\"T_37ccc_row5_col5\" class=\"data row5 col5\" >1.000000</td>\n",
              "      <td id=\"T_37ccc_row5_col6\" class=\"data row5 col6\" >-0.538718</td>\n",
              "      <td id=\"T_37ccc_row5_col7\" class=\"data row5 col7\" >0.184575</td>\n",
              "      <td id=\"T_37ccc_row5_col8\" class=\"data row5 col8\" >-0.858784</td>\n",
              "      <td id=\"T_37ccc_row5_col9\" class=\"data row5 col9\" >0.802812</td>\n",
              "      <td id=\"T_37ccc_row5_col10\" class=\"data row5 col10\" >0.074325</td>\n",
              "      <td id=\"T_37ccc_row5_col11\" class=\"data row5 col11\" >-0.217366</td>\n",
              "      <td id=\"T_37ccc_row5_col12\" class=\"data row5 col12\" >-0.831313</td>\n",
              "      <td id=\"T_37ccc_row5_col13\" class=\"data row5 col13\" >-0.054851</td>\n",
              "      <td id=\"T_37ccc_row5_col14\" class=\"data row5 col14\" >-0.214211</td>\n",
              "      <td id=\"T_37ccc_row5_col15\" class=\"data row5 col15\" >0.021548</td>\n",
              "      <td id=\"T_37ccc_row5_col16\" class=\"data row5 col16\" >-0.468351</td>\n",
              "    </tr>\n",
              "    <tr>\n",
              "      <th id=\"T_37ccc_level0_row6\" class=\"row_heading level0 row6\" >danceability</th>\n",
              "      <td id=\"T_37ccc_row6_col0\" class=\"data row6 col0\" >0.579826</td>\n",
              "      <td id=\"T_37ccc_row6_col1\" class=\"data row6 col1\" >-0.212659</td>\n",
              "      <td id=\"T_37ccc_row6_col2\" class=\"data row6 col2\" >0.685198</td>\n",
              "      <td id=\"T_37ccc_row6_col3\" class=\"data row6 col3\" >-0.683278</td>\n",
              "      <td id=\"T_37ccc_row6_col4\" class=\"data row6 col4\" >-0.181040</td>\n",
              "      <td id=\"T_37ccc_row6_col5\" class=\"data row6 col5\" >-0.538718</td>\n",
              "      <td id=\"T_37ccc_row6_col6\" class=\"data row6 col6\" >1.000000</td>\n",
              "      <td id=\"T_37ccc_row6_col7\" class=\"data row6 col7\" >-0.309187</td>\n",
              "      <td id=\"T_37ccc_row6_col8\" class=\"data row6 col8\" >0.480816</td>\n",
              "      <td id=\"T_37ccc_row6_col9\" class=\"data row6 col9\" >-0.616671</td>\n",
              "      <td id=\"T_37ccc_row6_col10\" class=\"data row6 col10\" >0.110225</td>\n",
              "      <td id=\"T_37ccc_row6_col11\" class=\"data row6 col11\" >0.070571</td>\n",
              "      <td id=\"T_37ccc_row6_col12\" class=\"data row6 col12\" >0.564384</td>\n",
              "      <td id=\"T_37ccc_row6_col13\" class=\"data row6 col13\" >0.227406</td>\n",
              "      <td id=\"T_37ccc_row6_col14\" class=\"data row6 col14\" >-0.038844</td>\n",
              "      <td id=\"T_37ccc_row6_col15\" class=\"data row6 col15\" >-0.132745</td>\n",
              "      <td id=\"T_37ccc_row6_col16\" class=\"data row6 col16\" >0.487837</td>\n",
              "    </tr>\n",
              "    <tr>\n",
              "      <th id=\"T_37ccc_level0_row7\" class=\"row_heading level0 row7\" >duration_ms</th>\n",
              "      <td id=\"T_37ccc_row7_col0\" class=\"data row7 col0\" >-0.278275</td>\n",
              "      <td id=\"T_37ccc_row7_col1\" class=\"data row7 col1\" >0.748890</td>\n",
              "      <td id=\"T_37ccc_row7_col2\" class=\"data row7 col2\" >-0.235413</td>\n",
              "      <td id=\"T_37ccc_row7_col3\" class=\"data row7 col3\" >0.233151</td>\n",
              "      <td id=\"T_37ccc_row7_col4\" class=\"data row7 col4\" >-0.034576</td>\n",
              "      <td id=\"T_37ccc_row7_col5\" class=\"data row7 col5\" >0.184575</td>\n",
              "      <td id=\"T_37ccc_row7_col6\" class=\"data row7 col6\" >-0.309187</td>\n",
              "      <td id=\"T_37ccc_row7_col7\" class=\"data row7 col7\" >1.000000</td>\n",
              "      <td id=\"T_37ccc_row7_col8\" class=\"data row7 col8\" >-0.202881</td>\n",
              "      <td id=\"T_37ccc_row7_col9\" class=\"data row7 col9\" >0.289232</td>\n",
              "      <td id=\"T_37ccc_row7_col10\" class=\"data row7 col10\" >-0.092625</td>\n",
              "      <td id=\"T_37ccc_row7_col11\" class=\"data row7 col11\" >-0.148772</td>\n",
              "      <td id=\"T_37ccc_row7_col12\" class=\"data row7 col12\" >-0.204338</td>\n",
              "      <td id=\"T_37ccc_row7_col13\" class=\"data row7 col13\" >-0.122419</td>\n",
              "      <td id=\"T_37ccc_row7_col14\" class=\"data row7 col14\" >0.037738</td>\n",
              "      <td id=\"T_37ccc_row7_col15\" class=\"data row7 col15\" >0.036440</td>\n",
              "      <td id=\"T_37ccc_row7_col16\" class=\"data row7 col16\" >-0.343836</td>\n",
              "    </tr>\n",
              "    <tr>\n",
              "      <th id=\"T_37ccc_level0_row8\" class=\"row_heading level0 row8\" >energy</th>\n",
              "      <td id=\"T_37ccc_row8_col0\" class=\"data row8 col0\" >0.905726</td>\n",
              "      <td id=\"T_37ccc_row8_col1\" class=\"data row8 col1\" >0.073708</td>\n",
              "      <td id=\"T_37ccc_row8_col2\" class=\"data row8 col2\" >0.851080</td>\n",
              "      <td id=\"T_37ccc_row8_col3\" class=\"data row8 col3\" >0.125920</td>\n",
              "      <td id=\"T_37ccc_row8_col4\" class=\"data row8 col4\" >-0.285244</td>\n",
              "      <td id=\"T_37ccc_row8_col5\" class=\"data row8 col5\" >-0.858784</td>\n",
              "      <td id=\"T_37ccc_row8_col6\" class=\"data row8 col6\" >0.480816</td>\n",
              "      <td id=\"T_37ccc_row8_col7\" class=\"data row8 col7\" >-0.202881</td>\n",
              "      <td id=\"T_37ccc_row8_col8\" class=\"data row8 col8\" >1.000000</td>\n",
              "      <td id=\"T_37ccc_row8_col9\" class=\"data row8 col9\" >-0.803711</td>\n",
              "      <td id=\"T_37ccc_row8_col10\" class=\"data row8 col10\" >0.005436</td>\n",
              "      <td id=\"T_37ccc_row8_col11\" class=\"data row8 col11\" >0.263407</td>\n",
              "      <td id=\"T_37ccc_row8_col12\" class=\"data row8 col12\" >0.907639</td>\n",
              "      <td id=\"T_37ccc_row8_col13\" class=\"data row8 col13\" >0.089217</td>\n",
              "      <td id=\"T_37ccc_row8_col14\" class=\"data row8 col14\" >0.245783</td>\n",
              "      <td id=\"T_37ccc_row8_col15\" class=\"data row8 col15\" >-0.036138</td>\n",
              "      <td id=\"T_37ccc_row8_col16\" class=\"data row8 col16\" >0.557997</td>\n",
              "    </tr>\n",
              "    <tr>\n",
              "      <th id=\"T_37ccc_level0_row9\" class=\"row_heading level0 row9\" >instrumentalness</th>\n",
              "      <td id=\"T_37ccc_row9_col0\" class=\"data row9 col0\" >-0.876740</td>\n",
              "      <td id=\"T_37ccc_row9_col1\" class=\"data row9 col1\" >0.005458</td>\n",
              "      <td id=\"T_37ccc_row9_col2\" class=\"data row9 col2\" >-0.829574</td>\n",
              "      <td id=\"T_37ccc_row9_col3\" class=\"data row9 col3\" >0.054602</td>\n",
              "      <td id=\"T_37ccc_row9_col4\" class=\"data row9 col4\" >0.418303</td>\n",
              "      <td id=\"T_37ccc_row9_col5\" class=\"data row9 col5\" >0.802812</td>\n",
              "      <td id=\"T_37ccc_row9_col6\" class=\"data row9 col6\" >-0.616671</td>\n",
              "      <td id=\"T_37ccc_row9_col7\" class=\"data row9 col7\" >0.289232</td>\n",
              "      <td id=\"T_37ccc_row9_col8\" class=\"data row9 col8\" >-0.803711</td>\n",
              "      <td id=\"T_37ccc_row9_col9\" class=\"data row9 col9\" >1.000000</td>\n",
              "      <td id=\"T_37ccc_row9_col10\" class=\"data row9 col10\" >-0.018490</td>\n",
              "      <td id=\"T_37ccc_row9_col11\" class=\"data row9 col11\" >-0.189212</td>\n",
              "      <td id=\"T_37ccc_row9_col12\" class=\"data row9 col12\" >-0.871203</td>\n",
              "      <td id=\"T_37ccc_row9_col13\" class=\"data row9 col13\" >-0.151969</td>\n",
              "      <td id=\"T_37ccc_row9_col14\" class=\"data row9 col14\" >-0.226062</td>\n",
              "      <td id=\"T_37ccc_row9_col15\" class=\"data row9 col15\" >-0.057395</td>\n",
              "      <td id=\"T_37ccc_row9_col16\" class=\"data row9 col16\" >-0.584943</td>\n",
              "    </tr>\n",
              "    <tr>\n",
              "      <th id=\"T_37ccc_level0_row10\" class=\"row_heading level0 row10\" >key</th>\n",
              "      <td id=\"T_37ccc_row10_col0\" class=\"data row10 col0\" >0.019134</td>\n",
              "      <td id=\"T_37ccc_row10_col1\" class=\"data row10 col1\" >-0.130095</td>\n",
              "      <td id=\"T_37ccc_row10_col2\" class=\"data row10 col2\" >-0.036024</td>\n",
              "      <td id=\"T_37ccc_row10_col3\" class=\"data row10 col3\" >-0.197949</td>\n",
              "      <td id=\"T_37ccc_row10_col4\" class=\"data row10 col4\" >0.063237</td>\n",
              "      <td id=\"T_37ccc_row10_col5\" class=\"data row10 col5\" >0.074325</td>\n",
              "      <td id=\"T_37ccc_row10_col6\" class=\"data row10 col6\" >0.110225</td>\n",
              "      <td id=\"T_37ccc_row10_col7\" class=\"data row10 col7\" >-0.092625</td>\n",
              "      <td id=\"T_37ccc_row10_col8\" class=\"data row10 col8\" >0.005436</td>\n",
              "      <td id=\"T_37ccc_row10_col9\" class=\"data row10 col9\" >-0.018490</td>\n",
              "      <td id=\"T_37ccc_row10_col10\" class=\"data row10 col10\" >1.000000</td>\n",
              "      <td id=\"T_37ccc_row10_col11\" class=\"data row10 col11\" >0.028660</td>\n",
              "      <td id=\"T_37ccc_row10_col12\" class=\"data row10 col12\" >0.010885</td>\n",
              "      <td id=\"T_37ccc_row10_col13\" class=\"data row10 col13\" >0.123567</td>\n",
              "      <td id=\"T_37ccc_row10_col14\" class=\"data row10 col14\" >-0.097113</td>\n",
              "      <td id=\"T_37ccc_row10_col15\" class=\"data row10 col15\" >-0.213585</td>\n",
              "      <td id=\"T_37ccc_row10_col16\" class=\"data row10 col16\" >0.014603</td>\n",
              "    </tr>\n",
              "    <tr>\n",
              "      <th id=\"T_37ccc_level0_row11\" class=\"row_heading level0 row11\" >liveness</th>\n",
              "      <td id=\"T_37ccc_row11_col0\" class=\"data row11 col0\" >0.224467</td>\n",
              "      <td id=\"T_37ccc_row11_col1\" class=\"data row11 col1\" >-0.058045</td>\n",
              "      <td id=\"T_37ccc_row11_col2\" class=\"data row11 col2\" >0.265259</td>\n",
              "      <td id=\"T_37ccc_row11_col3\" class=\"data row11 col3\" >-0.186521</td>\n",
              "      <td id=\"T_37ccc_row11_col4\" class=\"data row11 col4\" >-0.070643</td>\n",
              "      <td id=\"T_37ccc_row11_col5\" class=\"data row11 col5\" >-0.217366</td>\n",
              "      <td id=\"T_37ccc_row11_col6\" class=\"data row11 col6\" >0.070571</td>\n",
              "      <td id=\"T_37ccc_row11_col7\" class=\"data row11 col7\" >-0.148772</td>\n",
              "      <td id=\"T_37ccc_row11_col8\" class=\"data row11 col8\" >0.263407</td>\n",
              "      <td id=\"T_37ccc_row11_col9\" class=\"data row11 col9\" >-0.189212</td>\n",
              "      <td id=\"T_37ccc_row11_col10\" class=\"data row11 col10\" >0.028660</td>\n",
              "      <td id=\"T_37ccc_row11_col11\" class=\"data row11 col11\" >1.000000</td>\n",
              "      <td id=\"T_37ccc_row11_col12\" class=\"data row11 col12\" >0.217215</td>\n",
              "      <td id=\"T_37ccc_row11_col13\" class=\"data row11 col13\" >0.072116</td>\n",
              "      <td id=\"T_37ccc_row11_col14\" class=\"data row11 col14\" >0.056367</td>\n",
              "      <td id=\"T_37ccc_row11_col15\" class=\"data row11 col15\" >-0.041031</td>\n",
              "      <td id=\"T_37ccc_row11_col16\" class=\"data row11 col16\" >0.192959</td>\n",
              "    </tr>\n",
              "    <tr>\n",
              "      <th id=\"T_37ccc_level0_row12\" class=\"row_heading level0 row12\" >loudness</th>\n",
              "      <td id=\"T_37ccc_row12_col0\" class=\"data row12 col0\" >0.997008</td>\n",
              "      <td id=\"T_37ccc_row12_col1\" class=\"data row12 col1\" >0.067777</td>\n",
              "      <td id=\"T_37ccc_row12_col2\" class=\"data row12 col2\" >0.843692</td>\n",
              "      <td id=\"T_37ccc_row12_col3\" class=\"data row12 col3\" >0.021101</td>\n",
              "      <td id=\"T_37ccc_row12_col4\" class=\"data row12 col4\" >-0.319662</td>\n",
              "      <td id=\"T_37ccc_row12_col5\" class=\"data row12 col5\" >-0.831313</td>\n",
              "      <td id=\"T_37ccc_row12_col6\" class=\"data row12 col6\" >0.564384</td>\n",
              "      <td id=\"T_37ccc_row12_col7\" class=\"data row12 col7\" >-0.204338</td>\n",
              "      <td id=\"T_37ccc_row12_col8\" class=\"data row12 col8\" >0.907639</td>\n",
              "      <td id=\"T_37ccc_row12_col9\" class=\"data row12 col9\" >-0.871203</td>\n",
              "      <td id=\"T_37ccc_row12_col10\" class=\"data row12 col10\" >0.010885</td>\n",
              "      <td id=\"T_37ccc_row12_col11\" class=\"data row12 col11\" >0.217215</td>\n",
              "      <td id=\"T_37ccc_row12_col12\" class=\"data row12 col12\" >1.000000</td>\n",
              "      <td id=\"T_37ccc_row12_col13\" class=\"data row12 col13\" >0.124465</td>\n",
              "      <td id=\"T_37ccc_row12_col14\" class=\"data row12 col14\" >0.227803</td>\n",
              "      <td id=\"T_37ccc_row12_col15\" class=\"data row12 col15\" >-0.002777</td>\n",
              "      <td id=\"T_37ccc_row12_col16\" class=\"data row12 col16\" >0.527576</td>\n",
              "    </tr>\n",
              "    <tr>\n",
              "      <th id=\"T_37ccc_level0_row13\" class=\"row_heading level0 row13\" >speechiness</th>\n",
              "      <td id=\"T_37ccc_row13_col0\" class=\"data row13 col0\" >0.132220</td>\n",
              "      <td id=\"T_37ccc_row13_col1\" class=\"data row13 col1\" >-0.096202</td>\n",
              "      <td id=\"T_37ccc_row13_col2\" class=\"data row13 col2\" >0.102365</td>\n",
              "      <td id=\"T_37ccc_row13_col3\" class=\"data row13 col3\" >-0.230904</td>\n",
              "      <td id=\"T_37ccc_row13_col4\" class=\"data row13 col4\" >-0.147972</td>\n",
              "      <td id=\"T_37ccc_row13_col5\" class=\"data row13 col5\" >-0.054851</td>\n",
              "      <td id=\"T_37ccc_row13_col6\" class=\"data row13 col6\" >0.227406</td>\n",
              "      <td id=\"T_37ccc_row13_col7\" class=\"data row13 col7\" >-0.122419</td>\n",
              "      <td id=\"T_37ccc_row13_col8\" class=\"data row13 col8\" >0.089217</td>\n",
              "      <td id=\"T_37ccc_row13_col9\" class=\"data row13 col9\" >-0.151969</td>\n",
              "      <td id=\"T_37ccc_row13_col10\" class=\"data row13 col10\" >0.123567</td>\n",
              "      <td id=\"T_37ccc_row13_col11\" class=\"data row13 col11\" >0.072116</td>\n",
              "      <td id=\"T_37ccc_row13_col12\" class=\"data row13 col12\" >0.124465</td>\n",
              "      <td id=\"T_37ccc_row13_col13\" class=\"data row13 col13\" >1.000000</td>\n",
              "      <td id=\"T_37ccc_row13_col14\" class=\"data row13 col14\" >-0.022887</td>\n",
              "      <td id=\"T_37ccc_row13_col15\" class=\"data row13 col15\" >-0.136678</td>\n",
              "      <td id=\"T_37ccc_row13_col16\" class=\"data row13 col16\" >-0.049978</td>\n",
              "    </tr>\n",
              "    <tr>\n",
              "      <th id=\"T_37ccc_level0_row14\" class=\"row_heading level0 row14\" >tempo</th>\n",
              "      <td id=\"T_37ccc_row14_col0\" class=\"data row14 col0\" >0.207745</td>\n",
              "      <td id=\"T_37ccc_row14_col1\" class=\"data row14 col1\" >0.686895</td>\n",
              "      <td id=\"T_37ccc_row14_col2\" class=\"data row14 col2\" >0.175859</td>\n",
              "      <td id=\"T_37ccc_row14_col3\" class=\"data row14 col3\" >0.213843</td>\n",
              "      <td id=\"T_37ccc_row14_col4\" class=\"data row14 col4\" >-0.146173</td>\n",
              "      <td id=\"T_37ccc_row14_col5\" class=\"data row14 col5\" >-0.214211</td>\n",
              "      <td id=\"T_37ccc_row14_col6\" class=\"data row14 col6\" >-0.038844</td>\n",
              "      <td id=\"T_37ccc_row14_col7\" class=\"data row14 col7\" >0.037738</td>\n",
              "      <td id=\"T_37ccc_row14_col8\" class=\"data row14 col8\" >0.245783</td>\n",
              "      <td id=\"T_37ccc_row14_col9\" class=\"data row14 col9\" >-0.226062</td>\n",
              "      <td id=\"T_37ccc_row14_col10\" class=\"data row14 col10\" >-0.097113</td>\n",
              "      <td id=\"T_37ccc_row14_col11\" class=\"data row14 col11\" >0.056367</td>\n",
              "      <td id=\"T_37ccc_row14_col12\" class=\"data row14 col12\" >0.227803</td>\n",
              "      <td id=\"T_37ccc_row14_col13\" class=\"data row14 col13\" >-0.022887</td>\n",
              "      <td id=\"T_37ccc_row14_col14\" class=\"data row14 col14\" >1.000000</td>\n",
              "      <td id=\"T_37ccc_row14_col15\" class=\"data row14 col15\" >0.061389</td>\n",
              "      <td id=\"T_37ccc_row14_col16\" class=\"data row14 col16\" >0.111193</td>\n",
              "    </tr>\n",
              "    <tr>\n",
              "      <th id=\"T_37ccc_level0_row15\" class=\"row_heading level0 row15\" >mode</th>\n",
              "      <td id=\"T_37ccc_row15_col0\" class=\"data row15 col0\" >-0.006362</td>\n",
              "      <td id=\"T_37ccc_row15_col1\" class=\"data row15 col1\" >0.066185</td>\n",
              "      <td id=\"T_37ccc_row15_col2\" class=\"data row15 col2\" >-0.050841</td>\n",
              "      <td id=\"T_37ccc_row15_col3\" class=\"data row15 col3\" >0.143591</td>\n",
              "      <td id=\"T_37ccc_row15_col4\" class=\"data row15 col4\" >-0.130503</td>\n",
              "      <td id=\"T_37ccc_row15_col5\" class=\"data row15 col5\" >0.021548</td>\n",
              "      <td id=\"T_37ccc_row15_col6\" class=\"data row15 col6\" >-0.132745</td>\n",
              "      <td id=\"T_37ccc_row15_col7\" class=\"data row15 col7\" >0.036440</td>\n",
              "      <td id=\"T_37ccc_row15_col8\" class=\"data row15 col8\" >-0.036138</td>\n",
              "      <td id=\"T_37ccc_row15_col9\" class=\"data row15 col9\" >-0.057395</td>\n",
              "      <td id=\"T_37ccc_row15_col10\" class=\"data row15 col10\" >-0.213585</td>\n",
              "      <td id=\"T_37ccc_row15_col11\" class=\"data row15 col11\" >-0.041031</td>\n",
              "      <td id=\"T_37ccc_row15_col12\" class=\"data row15 col12\" >-0.002777</td>\n",
              "      <td id=\"T_37ccc_row15_col13\" class=\"data row15 col13\" >-0.136678</td>\n",
              "      <td id=\"T_37ccc_row15_col14\" class=\"data row15 col14\" >0.061389</td>\n",
              "      <td id=\"T_37ccc_row15_col15\" class=\"data row15 col15\" >1.000000</td>\n",
              "      <td id=\"T_37ccc_row15_col16\" class=\"data row15 col16\" >0.131118</td>\n",
              "    </tr>\n",
              "    <tr>\n",
              "      <th id=\"T_37ccc_level0_row16\" class=\"row_heading level0 row16\" >valence</th>\n",
              "      <td id=\"T_37ccc_row16_col0\" class=\"data row16 col0\" >0.544200</td>\n",
              "      <td id=\"T_37ccc_row16_col1\" class=\"data row16 col1\" >-0.144555</td>\n",
              "      <td id=\"T_37ccc_row16_col2\" class=\"data row16 col2\" >0.518285</td>\n",
              "      <td id=\"T_37ccc_row16_col3\" class=\"data row16 col3\" >-0.201229</td>\n",
              "      <td id=\"T_37ccc_row16_col4\" class=\"data row16 col4\" >-0.200154</td>\n",
              "      <td id=\"T_37ccc_row16_col5\" class=\"data row16 col5\" >-0.468351</td>\n",
              "      <td id=\"T_37ccc_row16_col6\" class=\"data row16 col6\" >0.487837</td>\n",
              "      <td id=\"T_37ccc_row16_col7\" class=\"data row16 col7\" >-0.343836</td>\n",
              "      <td id=\"T_37ccc_row16_col8\" class=\"data row16 col8\" >0.557997</td>\n",
              "      <td id=\"T_37ccc_row16_col9\" class=\"data row16 col9\" >-0.584943</td>\n",
              "      <td id=\"T_37ccc_row16_col10\" class=\"data row16 col10\" >0.014603</td>\n",
              "      <td id=\"T_37ccc_row16_col11\" class=\"data row16 col11\" >0.192959</td>\n",
              "      <td id=\"T_37ccc_row16_col12\" class=\"data row16 col12\" >0.527576</td>\n",
              "      <td id=\"T_37ccc_row16_col13\" class=\"data row16 col13\" >-0.049978</td>\n",
              "      <td id=\"T_37ccc_row16_col14\" class=\"data row16 col14\" >0.111193</td>\n",
              "      <td id=\"T_37ccc_row16_col15\" class=\"data row16 col15\" >0.131118</td>\n",
              "      <td id=\"T_37ccc_row16_col16\" class=\"data row16 col16\" >1.000000</td>\n",
              "    </tr>\n",
              "  </tbody>\n",
              "</table>\n"
            ]
          },
          "metadata": {},
          "execution_count": 50
        }
      ]
    },
    {
      "cell_type": "markdown",
      "source": [
        "##### Show the correlation circle"
      ],
      "metadata": {
        "id": "3TyeiIckQGQf"
      }
    },
    {
      "cell_type": "code",
      "source": [
        "fig, axes = plt.subplots(figsize=(8,8))\n",
        "axes.set_xlim(-1,1)\n",
        "axes.set_ylim(-1,1)\n",
        "\n",
        "# Print the labels (variable names)\n",
        "for col in data_scaled:\n",
        "    if col in X_beak.columns: color=\"b\"\n",
        "    elif col in X_body.columns: color=\"r\"\n",
        "    else: color = \"black\"\n",
        "\n",
        "    # Get coordinates in the two canonical components\n",
        "    coord_horizontal = .5 * (corr_cc_var.at[\"U_1\",col] + corr_cc_var.at[\"V_1\",col])\n",
        "    coord_vertical = .5 * (corr_cc_var.at[\"U_2\",col] + corr_cc_var.at[\"V_2\",col])\n",
        "    plt.annotate(col,(coord_horizontal,coord_vertical), color=color)\n",
        "    axes.annotate(\"\", xy=(coord_horizontal,coord_vertical), xytext=(0, 0),arrowprops=dict(arrowstyle=\"->\", color=\"black\"))\n",
        "\n",
        "# Add the axes\n",
        "plt.plot([-1,1],[0,0],color='silver',linestyle='-',linewidth=1)\n",
        "plt.plot([0,0],[-1,1],color='silver',linestyle='-',linewidth=1)\n",
        "\n",
        "# Add a circle\n",
        "cercle = plt.Circle((0,0),1,color='black',fill=False)\n",
        "axes.add_artist(cercle)\n",
        "# Print the correlation circle\n",
        "plt.show()"
      ],
      "metadata": {
        "id": "_vdbaq7NQH4K",
        "colab": {
          "base_uri": "https://localhost:8080/",
          "height": 682
        },
        "outputId": "54a758a5-5306-4371-d971-fa4eda7a74dd"
      },
      "execution_count": null,
      "outputs": [
        {
          "output_type": "display_data",
          "data": {
            "text/plain": [
              "<Figure size 800x800 with 1 Axes>"
            ],
            "image/png": "[encoded data removed]"
          },
          "metadata": {}
        }
      ]
    },
    {
      "cell_type": "markdown",
      "source": [
        "##### Interpret the obtained results"
      ],
      "metadata": {
        "id": "PZGdyIqWQJ5i"
      }
    },
    {
      "cell_type": "code",
      "source": [
        "\n",
        "##In ths circle we can see that the correlated variables are :\n",
        "#-  loudness and energy\n",
        "#-acousticness and instrumentalness\n",
        "\n",
        "\n",
        "#and the most representative ones are :\n",
        "# -danceability\n",
        "#-loudness\n",
        "#-energy\n",
        "#-instrumentalness\n"
      ],
      "metadata": {
        "id": "fuuRGz7wQQHK"
      },
      "execution_count": null,
      "outputs": []
    },
    {
      "cell_type": "markdown",
      "source": [
        "#### Individual visualization"
      ],
      "metadata": {
        "id": "ihkUgZJbQ24U"
      }
    },
    {
      "cell_type": "markdown",
      "source": [
        "##### Show the individuals representation"
      ],
      "metadata": {
        "id": "r0ktU43JSLye"
      }
    },
    {
      "cell_type": "code",
      "source": [
        "from matplotlib.pyplot import figure\n",
        "fig, axes = plt.subplots(figsize=(8,8))\n",
        "\n",
        "# We can plot the first 5 samples in the dataset\n",
        "# by their coordinates in the first group of variables (in blue)\n",
        "# and their coordinates in the second group of variables (in red)\n",
        "# to see how far the two groups place the same sample.\n",
        "for i in range(5):\n",
        "    plt.annotate(i, (U_[i,0],U_[i,1]), color=\"b\")\n",
        "    plt.annotate(i, (V_[i, 0],V_[i, 1]), color=\"r\")\n",
        "\n",
        "plt.xlabel('Coordinates for the first pair')\n",
        "plt.ylabel('Coordinates for the second pair')\n",
        "\n",
        "# Modify xlim and ylim out zoom in and out of the figure\n",
        "coord = 2.5\n",
        "plt.xlim(-coord,coord)\n",
        "plt.ylim(-coord,coord)\n",
        "\n",
        "plt.hlines(0, -coord, coord, color=\"grey\")\n",
        "plt.vlines(0, -coord, coord, color=\"grey\")\n",
        "\n",
        "plt.plot()"
      ],
      "metadata": {
        "id": "Q5rTCInGQ6Ou",
        "colab": {
          "base_uri": "https://localhost:8080/",
          "height": 714
        },
        "outputId": "94ee1323-abdb-4cba-b1b3-7abb9ba42dc3"
      },
      "execution_count": null,
      "outputs": [
        {
          "output_type": "execute_result",
          "data": {
            "text/plain": [
              "[]"
            ]
          },
          "metadata": {},
          "execution_count": 52
        },
        {
          "output_type": "display_data",
          "data": {
            "text/plain": [
              "<Figure size 800x800 with 1 Axes>"
            ],
            "image/png": "[encoded data removed]"
          },
          "metadata": {}
        }
      ]
    },
    {
      "cell_type": "markdown",
      "source": [
        "##### Interpret the obtained results"
      ],
      "metadata": {
        "id": "CEdCLoCfRkJA"
      }
    },
    {
      "cell_type": "code",
      "source": [
        "# we can see that each variables have a different properties and the samples number 4 have the most value"
      ],
      "metadata": {
        "id": "RNrE4hjZRpaR"
      },
      "execution_count": null,
      "outputs": []
    },
    {
      "cell_type": "markdown",
      "source": [
        "### CCA Conclusion\n",
        "Based on your visualizations, do you think it would be useful to use the CCA results to reduce the dimensionality of your dataset before applying some form of clustering method, like you did with PCA? Why / why not?"
      ],
      "metadata": {
        "id": "taYmgfN46Hf3"
      }
    },
    {
      "cell_type": "markdown",
      "source": [],
      "metadata": {
        "id": "bxVNPtXm6H2B"
      }
    },
    {
      "cell_type": "code",
      "source": [
        "#In our oppinion it is better to use te PCA results to reduce the dimensionality of our dataset before applying some form of clustering method\n",
        "#As it gives better results than the CCA"
      ],
      "metadata": {
        "id": "P4UOOVe1znm1"
      },
      "execution_count": null,
      "outputs": []
    }
  ]
}